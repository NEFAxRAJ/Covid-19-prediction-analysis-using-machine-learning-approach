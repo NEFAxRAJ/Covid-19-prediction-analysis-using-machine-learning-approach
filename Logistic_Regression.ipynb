{
  "nbformat": 4,
  "nbformat_minor": 0,
  "metadata": {
    "colab": {
      "name": "Logistic Regression.ipynb",
      "provenance": [],
      "collapsed_sections": []
    },
    "kernelspec": {
      "display_name": "Python 3",
      "name": "python3"
    },
    "language_info": {
      "name": "python"
    }
  },
  "cells": [
    {
      "cell_type": "markdown",
      "metadata": {
        "id": "f5NMGDu4hWMm"
      },
      "source": [
        "# ***Library Import***"
      ]
    },
    {
      "cell_type": "code",
      "metadata": {
        "id": "5a0n0I66FEJ7"
      },
      "source": [
        "import numpy as np\n",
        "import pandas as pd\n",
        "import matplotlib.pyplot as plt\n",
        "import matplotlib.colors as mcolors\n",
        "from sklearn.linear_model import LinearRegression\n",
        "from sklearn.model_selection import train_test_split\n",
        "from sklearn.preprocessing import PolynomialFeatures\n",
        "from sklearn.svm import SVR\n",
        "from sklearn.metrics import mean_squared_error, mean_absolute_error\n",
        "import seaborn as sns"
      ],
      "execution_count": null,
      "outputs": []
    },
    {
      "cell_type": "markdown",
      "metadata": {
        "id": "_dOj_ioTn8oC"
      },
      "source": [
        "# ***Data Preprocessing***"
      ]
    },
    {
      "cell_type": "code",
      "metadata": {
        "colab": {
          "base_uri": "https://localhost:8080/"
        },
        "id": "RCU0ivAO-Xwx",
        "outputId": "4ea7b692-98cf-4361-8c8b-016d67618aca"
      },
      "source": [
        "from google.colab import drive\n",
        "drive.mount('/content/drive')"
      ],
      "execution_count": null,
      "outputs": [
        {
          "output_type": "stream",
          "name": "stdout",
          "text": [
            "Mounted at /content/drive\n"
          ]
        }
      ]
    },
    {
      "cell_type": "code",
      "metadata": {
        "colab": {
          "base_uri": "https://localhost:8080/"
        },
        "id": "Io0tfmKkM14o",
        "outputId": "4ced0c54-410f-4e30-e97b-3d3572fad31b"
      },
      "source": [
        "df = pd.read_csv('/content/drive/MyDrive/SARS-2/data/corona_tested_individuals_ver_0083.english.csv')"
      ],
      "execution_count": null,
      "outputs": [
        {
          "output_type": "stream",
          "name": "stderr",
          "text": [
            "/usr/local/lib/python3.7/dist-packages/IPython/core/interactiveshell.py:2718: DtypeWarning: Columns (7) have mixed types.Specify dtype option on import or set low_memory=False.\n",
            "  interactivity=interactivity, compiler=compiler, result=result)\n"
          ]
        }
      ]
    },
    {
      "cell_type": "code",
      "metadata": {
        "colab": {
          "base_uri": "https://localhost:8080/",
          "height": 422
        },
        "id": "oBGFLwYng2jw",
        "outputId": "9ec16a82-5075-42d9-ccd2-bc3a2c099fb3"
      },
      "source": [
        "df"
      ],
      "execution_count": null,
      "outputs": [
        {
          "output_type": "execute_result",
          "data": {
            "text/html": [
              "<div>\n",
              "<style scoped>\n",
              "    .dataframe tbody tr th:only-of-type {\n",
              "        vertical-align: middle;\n",
              "    }\n",
              "\n",
              "    .dataframe tbody tr th {\n",
              "        vertical-align: top;\n",
              "    }\n",
              "\n",
              "    .dataframe thead th {\n",
              "        text-align: right;\n",
              "    }\n",
              "</style>\n",
              "<table border=\"1\" class=\"dataframe\">\n",
              "  <thead>\n",
              "    <tr style=\"text-align: right;\">\n",
              "      <th></th>\n",
              "      <th>test_date</th>\n",
              "      <th>cough</th>\n",
              "      <th>fever</th>\n",
              "      <th>sore_throat</th>\n",
              "      <th>shortness_of_breath</th>\n",
              "      <th>head_ache</th>\n",
              "      <th>corona_result</th>\n",
              "      <th>age_60_and_above</th>\n",
              "      <th>gender</th>\n",
              "      <th>test_indication</th>\n",
              "    </tr>\n",
              "  </thead>\n",
              "  <tbody>\n",
              "    <tr>\n",
              "      <th>0</th>\n",
              "      <td>2020-11-12</td>\n",
              "      <td>0</td>\n",
              "      <td>0</td>\n",
              "      <td>0</td>\n",
              "      <td>0</td>\n",
              "      <td>0</td>\n",
              "      <td>negative</td>\n",
              "      <td>No</td>\n",
              "      <td>male</td>\n",
              "      <td>Other</td>\n",
              "    </tr>\n",
              "    <tr>\n",
              "      <th>1</th>\n",
              "      <td>2020-11-12</td>\n",
              "      <td>0</td>\n",
              "      <td>1</td>\n",
              "      <td>0</td>\n",
              "      <td>0</td>\n",
              "      <td>0</td>\n",
              "      <td>negative</td>\n",
              "      <td>No</td>\n",
              "      <td>male</td>\n",
              "      <td>Other</td>\n",
              "    </tr>\n",
              "    <tr>\n",
              "      <th>2</th>\n",
              "      <td>2020-11-12</td>\n",
              "      <td>0</td>\n",
              "      <td>0</td>\n",
              "      <td>0</td>\n",
              "      <td>0</td>\n",
              "      <td>0</td>\n",
              "      <td>negative</td>\n",
              "      <td>Yes</td>\n",
              "      <td>female</td>\n",
              "      <td>Other</td>\n",
              "    </tr>\n",
              "    <tr>\n",
              "      <th>3</th>\n",
              "      <td>2020-11-12</td>\n",
              "      <td>0</td>\n",
              "      <td>0</td>\n",
              "      <td>0</td>\n",
              "      <td>0</td>\n",
              "      <td>0</td>\n",
              "      <td>negative</td>\n",
              "      <td>No</td>\n",
              "      <td>male</td>\n",
              "      <td>Other</td>\n",
              "    </tr>\n",
              "    <tr>\n",
              "      <th>4</th>\n",
              "      <td>2020-11-12</td>\n",
              "      <td>0</td>\n",
              "      <td>1</td>\n",
              "      <td>0</td>\n",
              "      <td>0</td>\n",
              "      <td>0</td>\n",
              "      <td>negative</td>\n",
              "      <td>No</td>\n",
              "      <td>male</td>\n",
              "      <td>Contact with confirmed</td>\n",
              "    </tr>\n",
              "    <tr>\n",
              "      <th>...</th>\n",
              "      <td>...</td>\n",
              "      <td>...</td>\n",
              "      <td>...</td>\n",
              "      <td>...</td>\n",
              "      <td>...</td>\n",
              "      <td>...</td>\n",
              "      <td>...</td>\n",
              "      <td>...</td>\n",
              "      <td>...</td>\n",
              "      <td>...</td>\n",
              "    </tr>\n",
              "    <tr>\n",
              "      <th>2742591</th>\n",
              "      <td>2020-03-11</td>\n",
              "      <td>0</td>\n",
              "      <td>0</td>\n",
              "      <td>0</td>\n",
              "      <td>0</td>\n",
              "      <td>0</td>\n",
              "      <td>negative</td>\n",
              "      <td>NaN</td>\n",
              "      <td>female</td>\n",
              "      <td>Other</td>\n",
              "    </tr>\n",
              "    <tr>\n",
              "      <th>2742592</th>\n",
              "      <td>2020-03-11</td>\n",
              "      <td>0</td>\n",
              "      <td>0</td>\n",
              "      <td>0</td>\n",
              "      <td>0</td>\n",
              "      <td>0</td>\n",
              "      <td>negative</td>\n",
              "      <td>NaN</td>\n",
              "      <td>female</td>\n",
              "      <td>Other</td>\n",
              "    </tr>\n",
              "    <tr>\n",
              "      <th>2742593</th>\n",
              "      <td>2020-03-11</td>\n",
              "      <td>0</td>\n",
              "      <td>0</td>\n",
              "      <td>0</td>\n",
              "      <td>0</td>\n",
              "      <td>0</td>\n",
              "      <td>other</td>\n",
              "      <td>NaN</td>\n",
              "      <td>male</td>\n",
              "      <td>Other</td>\n",
              "    </tr>\n",
              "    <tr>\n",
              "      <th>2742594</th>\n",
              "      <td>2020-03-11</td>\n",
              "      <td>0</td>\n",
              "      <td>0</td>\n",
              "      <td>0</td>\n",
              "      <td>0</td>\n",
              "      <td>0</td>\n",
              "      <td>negative</td>\n",
              "      <td>NaN</td>\n",
              "      <td>female</td>\n",
              "      <td>Other</td>\n",
              "    </tr>\n",
              "    <tr>\n",
              "      <th>2742595</th>\n",
              "      <td>2020-03-11</td>\n",
              "      <td>0</td>\n",
              "      <td>1</td>\n",
              "      <td>0</td>\n",
              "      <td>0</td>\n",
              "      <td>0</td>\n",
              "      <td>negative</td>\n",
              "      <td>NaN</td>\n",
              "      <td>male</td>\n",
              "      <td>Other</td>\n",
              "    </tr>\n",
              "  </tbody>\n",
              "</table>\n",
              "<p>2742596 rows × 10 columns</p>\n",
              "</div>"
            ],
            "text/plain": [
              "          test_date  cough  ...  gender         test_indication\n",
              "0        2020-11-12      0  ...    male                   Other\n",
              "1        2020-11-12      0  ...    male                   Other\n",
              "2        2020-11-12      0  ...  female                   Other\n",
              "3        2020-11-12      0  ...    male                   Other\n",
              "4        2020-11-12      0  ...    male  Contact with confirmed\n",
              "...             ...    ...  ...     ...                     ...\n",
              "2742591  2020-03-11      0  ...  female                   Other\n",
              "2742592  2020-03-11      0  ...  female                   Other\n",
              "2742593  2020-03-11      0  ...    male                   Other\n",
              "2742594  2020-03-11      0  ...  female                   Other\n",
              "2742595  2020-03-11      0  ...    male                   Other\n",
              "\n",
              "[2742596 rows x 10 columns]"
            ]
          },
          "metadata": {},
          "execution_count": 4
        }
      ]
    },
    {
      "cell_type": "code",
      "metadata": {
        "id": "aFsjxlxkGzQe"
      },
      "source": [
        "df=df.drop(['test_date'],axis=1)"
      ],
      "execution_count": null,
      "outputs": []
    },
    {
      "cell_type": "code",
      "metadata": {
        "colab": {
          "base_uri": "https://localhost:8080/"
        },
        "id": "KaQVi3LdG-E2",
        "outputId": "cbb02d1e-fa5c-4178-a692-37831ef65979"
      },
      "source": [
        "df.isna().sum()"
      ],
      "execution_count": null,
      "outputs": [
        {
          "output_type": "execute_result",
          "data": {
            "text/plain": [
              "cough                       0\n",
              "fever                       0\n",
              "sore_throat                 0\n",
              "shortness_of_breath         0\n",
              "head_ache                   0\n",
              "corona_result               0\n",
              "age_60_and_above       547644\n",
              "gender                  92886\n",
              "test_indication             0\n",
              "dtype: int64"
            ]
          },
          "metadata": {},
          "execution_count": 6
        }
      ]
    },
    {
      "cell_type": "code",
      "metadata": {
        "colab": {
          "base_uri": "https://localhost:8080/"
        },
        "id": "xzpCRY5IG_4B",
        "outputId": "14de404a-b2e6-4727-cef3-7a055c8c44f9"
      },
      "source": [
        "df['gender'].replace({'male':0, 'female':1}, inplace=True)\n",
        "df.gender=df.gender.fillna(2)\n",
        "print(df)"
      ],
      "execution_count": null,
      "outputs": [
        {
          "output_type": "stream",
          "name": "stdout",
          "text": [
            "         cough  fever  ...  gender         test_indication\n",
            "0            0      0  ...     0.0                   Other\n",
            "1            0      1  ...     0.0                   Other\n",
            "2            0      0  ...     1.0                   Other\n",
            "3            0      0  ...     0.0                   Other\n",
            "4            0      1  ...     0.0  Contact with confirmed\n",
            "...        ...    ...  ...     ...                     ...\n",
            "2742591      0      0  ...     1.0                   Other\n",
            "2742592      0      0  ...     1.0                   Other\n",
            "2742593      0      0  ...     0.0                   Other\n",
            "2742594      0      0  ...     1.0                   Other\n",
            "2742595      0      1  ...     0.0                   Other\n",
            "\n",
            "[2742596 rows x 9 columns]\n"
          ]
        }
      ]
    },
    {
      "cell_type": "code",
      "metadata": {
        "colab": {
          "base_uri": "https://localhost:8080/"
        },
        "id": "U_ylr9_bHFU-",
        "outputId": "7f49fa11-07f0-4226-ebe1-3120ccca5e48"
      },
      "source": [
        "df['age_60_and_above'].replace({'No':0, 'Yes':1}, inplace=True)\n",
        "df.age_60_and_above=df.age_60_and_above.fillna(2)\n",
        "print(df)"
      ],
      "execution_count": null,
      "outputs": [
        {
          "output_type": "stream",
          "name": "stdout",
          "text": [
            "         cough  fever  ...  gender         test_indication\n",
            "0            0      0  ...     0.0                   Other\n",
            "1            0      1  ...     0.0                   Other\n",
            "2            0      0  ...     1.0                   Other\n",
            "3            0      0  ...     0.0                   Other\n",
            "4            0      1  ...     0.0  Contact with confirmed\n",
            "...        ...    ...  ...     ...                     ...\n",
            "2742591      0      0  ...     1.0                   Other\n",
            "2742592      0      0  ...     1.0                   Other\n",
            "2742593      0      0  ...     0.0                   Other\n",
            "2742594      0      0  ...     1.0                   Other\n",
            "2742595      0      1  ...     0.0                   Other\n",
            "\n",
            "[2742596 rows x 9 columns]\n"
          ]
        }
      ]
    },
    {
      "cell_type": "code",
      "metadata": {
        "colab": {
          "base_uri": "https://localhost:8080/"
        },
        "id": "3RjwFvieHMgm",
        "outputId": "902a7c25-4cef-466e-9242-47efaf60355d"
      },
      "source": [
        "df['test_indication'].replace({'Abroad':0, 'Contact with confirmed':1, 'Other':2}, inplace=True)\n",
        "print(df)"
      ],
      "execution_count": null,
      "outputs": [
        {
          "output_type": "stream",
          "name": "stdout",
          "text": [
            "         cough  fever  sore_throat  ...  age_60_and_above  gender test_indication\n",
            "0            0      0            0  ...               0.0     0.0               2\n",
            "1            0      1            0  ...               0.0     0.0               2\n",
            "2            0      0            0  ...               1.0     1.0               2\n",
            "3            0      0            0  ...               0.0     0.0               2\n",
            "4            0      1            0  ...               0.0     0.0               1\n",
            "...        ...    ...          ...  ...               ...     ...             ...\n",
            "2742591      0      0            0  ...               2.0     1.0               2\n",
            "2742592      0      0            0  ...               2.0     1.0               2\n",
            "2742593      0      0            0  ...               2.0     0.0               2\n",
            "2742594      0      0            0  ...               2.0     1.0               2\n",
            "2742595      0      1            0  ...               2.0     0.0               2\n",
            "\n",
            "[2742596 rows x 9 columns]\n"
          ]
        }
      ]
    },
    {
      "cell_type": "code",
      "metadata": {
        "id": "4866f9lgHOS2"
      },
      "source": [
        "x=df.drop(columns=['corona_result','test_indication'])\n",
        "y=df['test_indication']"
      ],
      "execution_count": null,
      "outputs": []
    },
    {
      "cell_type": "code",
      "metadata": {
        "colab": {
          "base_uri": "https://localhost:8080/"
        },
        "id": "FX1DzrrgHRdm",
        "outputId": "1248aba0-8e00-4542-a9b7-41b2a139cb71"
      },
      "source": [
        "df.dtypes"
      ],
      "execution_count": null,
      "outputs": [
        {
          "output_type": "execute_result",
          "data": {
            "text/plain": [
              "cough                    int64\n",
              "fever                    int64\n",
              "sore_throat              int64\n",
              "shortness_of_breath      int64\n",
              "head_ache                int64\n",
              "corona_result           object\n",
              "age_60_and_above       float64\n",
              "gender                 float64\n",
              "test_indication          int64\n",
              "dtype: object"
            ]
          },
          "metadata": {},
          "execution_count": 11
        }
      ]
    },
    {
      "cell_type": "code",
      "metadata": {
        "colab": {
          "base_uri": "https://localhost:8080/",
          "height": 251
        },
        "id": "elERl-PoHuPf",
        "outputId": "12631e9a-291c-4761-e229-a9af8f2d7471"
      },
      "source": [
        "rs = np.random.RandomState(0)\n",
        "df = pd.DataFrame(rs.rand(10, 10))\n",
        "corr = df.corr()\n",
        "corr.style.background_gradient(cmap='magma')"
      ],
      "execution_count": null,
      "outputs": [
        {
          "output_type": "execute_result",
          "data": {
            "text/html": [
              "<style  type=\"text/css\" >\n",
              "#T_bf88c6e2_3671_11ec_9aac_0242ac1c0002row0_col0,#T_bf88c6e2_3671_11ec_9aac_0242ac1c0002row1_col1,#T_bf88c6e2_3671_11ec_9aac_0242ac1c0002row2_col2,#T_bf88c6e2_3671_11ec_9aac_0242ac1c0002row3_col3,#T_bf88c6e2_3671_11ec_9aac_0242ac1c0002row4_col4,#T_bf88c6e2_3671_11ec_9aac_0242ac1c0002row5_col5,#T_bf88c6e2_3671_11ec_9aac_0242ac1c0002row6_col6,#T_bf88c6e2_3671_11ec_9aac_0242ac1c0002row7_col7,#T_bf88c6e2_3671_11ec_9aac_0242ac1c0002row8_col8,#T_bf88c6e2_3671_11ec_9aac_0242ac1c0002row9_col9{\n",
              "            background-color:  #fcfdbf;\n",
              "            color:  #000000;\n",
              "        }#T_bf88c6e2_3671_11ec_9aac_0242ac1c0002row0_col1{\n",
              "            background-color:  #bf3a77;\n",
              "            color:  #f1f1f1;\n",
              "        }#T_bf88c6e2_3671_11ec_9aac_0242ac1c0002row0_col2{\n",
              "            background-color:  #e04c67;\n",
              "            color:  #000000;\n",
              "        }#T_bf88c6e2_3671_11ec_9aac_0242ac1c0002row0_col3,#T_bf88c6e2_3671_11ec_9aac_0242ac1c0002row8_col6{\n",
              "            background-color:  #eb5760;\n",
              "            color:  #000000;\n",
              "        }#T_bf88c6e2_3671_11ec_9aac_0242ac1c0002row0_col4{\n",
              "            background-color:  #982d80;\n",
              "            color:  #f1f1f1;\n",
              "        }#T_bf88c6e2_3671_11ec_9aac_0242ac1c0002row0_col5,#T_bf88c6e2_3671_11ec_9aac_0242ac1c0002row0_col6,#T_bf88c6e2_3671_11ec_9aac_0242ac1c0002row2_col3,#T_bf88c6e2_3671_11ec_9aac_0242ac1c0002row2_col9,#T_bf88c6e2_3671_11ec_9aac_0242ac1c0002row3_col2,#T_bf88c6e2_3671_11ec_9aac_0242ac1c0002row4_col7,#T_bf88c6e2_3671_11ec_9aac_0242ac1c0002row4_col8,#T_bf88c6e2_3671_11ec_9aac_0242ac1c0002row6_col0,#T_bf88c6e2_3671_11ec_9aac_0242ac1c0002row6_col1,#T_bf88c6e2_3671_11ec_9aac_0242ac1c0002row8_col4{\n",
              "            background-color:  #000004;\n",
              "            color:  #f1f1f1;\n",
              "        }#T_bf88c6e2_3671_11ec_9aac_0242ac1c0002row0_col7{\n",
              "            background-color:  #ef5d5e;\n",
              "            color:  #000000;\n",
              "        }#T_bf88c6e2_3671_11ec_9aac_0242ac1c0002row0_col8{\n",
              "            background-color:  #160f3b;\n",
              "            color:  #f1f1f1;\n",
              "        }#T_bf88c6e2_3671_11ec_9aac_0242ac1c0002row0_col9,#T_bf88c6e2_3671_11ec_9aac_0242ac1c0002row5_col0{\n",
              "            background-color:  #5f187f;\n",
              "            color:  #f1f1f1;\n",
              "        }#T_bf88c6e2_3671_11ec_9aac_0242ac1c0002row1_col0{\n",
              "            background-color:  #e55064;\n",
              "            color:  #000000;\n",
              "        }#T_bf88c6e2_3671_11ec_9aac_0242ac1c0002row1_col2{\n",
              "            background-color:  #29115a;\n",
              "            color:  #f1f1f1;\n",
              "        }#T_bf88c6e2_3671_11ec_9aac_0242ac1c0002row1_col3{\n",
              "            background-color:  #f9785d;\n",
              "            color:  #000000;\n",
              "        }#T_bf88c6e2_3671_11ec_9aac_0242ac1c0002row1_col4{\n",
              "            background-color:  #3d0f71;\n",
              "            color:  #f1f1f1;\n",
              "        }#T_bf88c6e2_3671_11ec_9aac_0242ac1c0002row1_col5{\n",
              "            background-color:  #b5367a;\n",
              "            color:  #f1f1f1;\n",
              "        }#T_bf88c6e2_3671_11ec_9aac_0242ac1c0002row1_col6{\n",
              "            background-color:  #400f74;\n",
              "            color:  #f1f1f1;\n",
              "        }#T_bf88c6e2_3671_11ec_9aac_0242ac1c0002row1_col7{\n",
              "            background-color:  #fc8e64;\n",
              "            color:  #000000;\n",
              "        }#T_bf88c6e2_3671_11ec_9aac_0242ac1c0002row1_col8{\n",
              "            background-color:  #c53c74;\n",
              "            color:  #f1f1f1;\n",
              "        }#T_bf88c6e2_3671_11ec_9aac_0242ac1c0002row1_col9{\n",
              "            background-color:  #932b80;\n",
              "            color:  #f1f1f1;\n",
              "        }#T_bf88c6e2_3671_11ec_9aac_0242ac1c0002row2_col0,#T_bf88c6e2_3671_11ec_9aac_0242ac1c0002row3_col7,#T_bf88c6e2_3671_11ec_9aac_0242ac1c0002row7_col3{\n",
              "            background-color:  #ee5b5e;\n",
              "            color:  #000000;\n",
              "        }#T_bf88c6e2_3671_11ec_9aac_0242ac1c0002row2_col1,#T_bf88c6e2_3671_11ec_9aac_0242ac1c0002row4_col1,#T_bf88c6e2_3671_11ec_9aac_0242ac1c0002row7_col4{\n",
              "            background-color:  #08071e;\n",
              "            color:  #f1f1f1;\n",
              "        }#T_bf88c6e2_3671_11ec_9aac_0242ac1c0002row2_col4,#T_bf88c6e2_3671_11ec_9aac_0242ac1c0002row9_col8{\n",
              "            background-color:  #ab337c;\n",
              "            color:  #f1f1f1;\n",
              "        }#T_bf88c6e2_3671_11ec_9aac_0242ac1c0002row2_col5{\n",
              "            background-color:  #0d0a29;\n",
              "            color:  #f1f1f1;\n",
              "        }#T_bf88c6e2_3671_11ec_9aac_0242ac1c0002row2_col6{\n",
              "            background-color:  #802582;\n",
              "            color:  #f1f1f1;\n",
              "        }#T_bf88c6e2_3671_11ec_9aac_0242ac1c0002row2_col7,#T_bf88c6e2_3671_11ec_9aac_0242ac1c0002row7_col2{\n",
              "            background-color:  #792282;\n",
              "            color:  #f1f1f1;\n",
              "        }#T_bf88c6e2_3671_11ec_9aac_0242ac1c0002row2_col8{\n",
              "            background-color:  #180f3d;\n",
              "            color:  #f1f1f1;\n",
              "        }#T_bf88c6e2_3671_11ec_9aac_0242ac1c0002row3_col0,#T_bf88c6e2_3671_11ec_9aac_0242ac1c0002row3_col1{\n",
              "            background-color:  #f4695c;\n",
              "            color:  #000000;\n",
              "        }#T_bf88c6e2_3671_11ec_9aac_0242ac1c0002row3_col4{\n",
              "            background-color:  #4c117a;\n",
              "            color:  #f1f1f1;\n",
              "        }#T_bf88c6e2_3671_11ec_9aac_0242ac1c0002row3_col5{\n",
              "            background-color:  #010005;\n",
              "            color:  #f1f1f1;\n",
              "        }#T_bf88c6e2_3671_11ec_9aac_0242ac1c0002row3_col6{\n",
              "            background-color:  #221150;\n",
              "            color:  #f1f1f1;\n",
              "        }#T_bf88c6e2_3671_11ec_9aac_0242ac1c0002row3_col8{\n",
              "            background-color:  #cc3f71;\n",
              "            color:  #f1f1f1;\n",
              "        }#T_bf88c6e2_3671_11ec_9aac_0242ac1c0002row3_col9{\n",
              "            background-color:  #de4968;\n",
              "            color:  #000000;\n",
              "        }#T_bf88c6e2_3671_11ec_9aac_0242ac1c0002row4_col0{\n",
              "            background-color:  #a6317d;\n",
              "            color:  #f1f1f1;\n",
              "        }#T_bf88c6e2_3671_11ec_9aac_0242ac1c0002row4_col2{\n",
              "            background-color:  #9e2f7f;\n",
              "            color:  #f1f1f1;\n",
              "        }#T_bf88c6e2_3671_11ec_9aac_0242ac1c0002row4_col3{\n",
              "            background-color:  #390f6e;\n",
              "            color:  #f1f1f1;\n",
              "        }#T_bf88c6e2_3671_11ec_9aac_0242ac1c0002row4_col5{\n",
              "            background-color:  #150e38;\n",
              "            color:  #f1f1f1;\n",
              "        }#T_bf88c6e2_3671_11ec_9aac_0242ac1c0002row4_col6{\n",
              "            background-color:  #732081;\n",
              "            color:  #f1f1f1;\n",
              "        }#T_bf88c6e2_3671_11ec_9aac_0242ac1c0002row4_col9,#T_bf88c6e2_3671_11ec_9aac_0242ac1c0002row7_col6{\n",
              "            background-color:  #21114e;\n",
              "            color:  #f1f1f1;\n",
              "        }#T_bf88c6e2_3671_11ec_9aac_0242ac1c0002row5_col1{\n",
              "            background-color:  #ca3e72;\n",
              "            color:  #f1f1f1;\n",
              "        }#T_bf88c6e2_3671_11ec_9aac_0242ac1c0002row5_col2{\n",
              "            background-color:  #51127c;\n",
              "            color:  #f1f1f1;\n",
              "        }#T_bf88c6e2_3671_11ec_9aac_0242ac1c0002row5_col3{\n",
              "            background-color:  #38106c;\n",
              "            color:  #f1f1f1;\n",
              "        }#T_bf88c6e2_3671_11ec_9aac_0242ac1c0002row5_col4{\n",
              "            background-color:  #6a1c81;\n",
              "            color:  #f1f1f1;\n",
              "        }#T_bf88c6e2_3671_11ec_9aac_0242ac1c0002row5_col6,#T_bf88c6e2_3671_11ec_9aac_0242ac1c0002row9_col1{\n",
              "            background-color:  #8e2a81;\n",
              "            color:  #f1f1f1;\n",
              "        }#T_bf88c6e2_3671_11ec_9aac_0242ac1c0002row5_col7,#T_bf88c6e2_3671_11ec_9aac_0242ac1c0002row9_col7{\n",
              "            background-color:  #e44f64;\n",
              "            color:  #000000;\n",
              "        }#T_bf88c6e2_3671_11ec_9aac_0242ac1c0002row5_col8{\n",
              "            background-color:  #ba3878;\n",
              "            color:  #f1f1f1;\n",
              "        }#T_bf88c6e2_3671_11ec_9aac_0242ac1c0002row5_col9{\n",
              "            background-color:  #762181;\n",
              "            color:  #f1f1f1;\n",
              "        }#T_bf88c6e2_3671_11ec_9aac_0242ac1c0002row6_col2{\n",
              "            background-color:  #5d177f;\n",
              "            color:  #f1f1f1;\n",
              "        }#T_bf88c6e2_3671_11ec_9aac_0242ac1c0002row6_col3{\n",
              "            background-color:  #03030f;\n",
              "            color:  #f1f1f1;\n",
              "        }#T_bf88c6e2_3671_11ec_9aac_0242ac1c0002row6_col4{\n",
              "            background-color:  #601880;\n",
              "            color:  #f1f1f1;\n",
              "        }#T_bf88c6e2_3671_11ec_9aac_0242ac1c0002row6_col5,#T_bf88c6e2_3671_11ec_9aac_0242ac1c0002row8_col0{\n",
              "            background-color:  #2c115f;\n",
              "            color:  #f1f1f1;\n",
              "        }#T_bf88c6e2_3671_11ec_9aac_0242ac1c0002row6_col7{\n",
              "            background-color:  #020109;\n",
              "            color:  #f1f1f1;\n",
              "        }#T_bf88c6e2_3671_11ec_9aac_0242ac1c0002row6_col8,#T_bf88c6e2_3671_11ec_9aac_0242ac1c0002row7_col8{\n",
              "            background-color:  #e34e65;\n",
              "            color:  #000000;\n",
              "        }#T_bf88c6e2_3671_11ec_9aac_0242ac1c0002row6_col9{\n",
              "            background-color:  #02020b;\n",
              "            color:  #f1f1f1;\n",
              "        }#T_bf88c6e2_3671_11ec_9aac_0242ac1c0002row7_col0{\n",
              "            background-color:  #f66e5c;\n",
              "            color:  #000000;\n",
              "        }#T_bf88c6e2_3671_11ec_9aac_0242ac1c0002row7_col1{\n",
              "            background-color:  #fa815f;\n",
              "            color:  #000000;\n",
              "        }#T_bf88c6e2_3671_11ec_9aac_0242ac1c0002row7_col5{\n",
              "            background-color:  #c23b75;\n",
              "            color:  #f1f1f1;\n",
              "        }#T_bf88c6e2_3671_11ec_9aac_0242ac1c0002row7_col9{\n",
              "            background-color:  #d6456c;\n",
              "            color:  #f1f1f1;\n",
              "        }#T_bf88c6e2_3671_11ec_9aac_0242ac1c0002row8_col1{\n",
              "            background-color:  #a1307e;\n",
              "            color:  #f1f1f1;\n",
              "        }#T_bf88c6e2_3671_11ec_9aac_0242ac1c0002row8_col2{\n",
              "            background-color:  #090720;\n",
              "            color:  #f1f1f1;\n",
              "        }#T_bf88c6e2_3671_11ec_9aac_0242ac1c0002row8_col3{\n",
              "            background-color:  #c03a76;\n",
              "            color:  #f1f1f1;\n",
              "        }#T_bf88c6e2_3671_11ec_9aac_0242ac1c0002row8_col5{\n",
              "            background-color:  #7b2382;\n",
              "            color:  #f1f1f1;\n",
              "        }#T_bf88c6e2_3671_11ec_9aac_0242ac1c0002row8_col7{\n",
              "            background-color:  #db476a;\n",
              "            color:  #000000;\n",
              "        }#T_bf88c6e2_3671_11ec_9aac_0242ac1c0002row8_col9{\n",
              "            background-color:  #862781;\n",
              "            color:  #f1f1f1;\n",
              "        }#T_bf88c6e2_3671_11ec_9aac_0242ac1c0002row9_col0{\n",
              "            background-color:  #992d80;\n",
              "            color:  #f1f1f1;\n",
              "        }#T_bf88c6e2_3671_11ec_9aac_0242ac1c0002row9_col2{\n",
              "            background-color:  #120d31;\n",
              "            color:  #f1f1f1;\n",
              "        }#T_bf88c6e2_3671_11ec_9aac_0242ac1c0002row9_col3{\n",
              "            background-color:  #ea5661;\n",
              "            color:  #000000;\n",
              "        }#T_bf88c6e2_3671_11ec_9aac_0242ac1c0002row9_col4{\n",
              "            background-color:  #56147d;\n",
              "            color:  #f1f1f1;\n",
              "        }#T_bf88c6e2_3671_11ec_9aac_0242ac1c0002row9_col5{\n",
              "            background-color:  #57157e;\n",
              "            color:  #f1f1f1;\n",
              "        }#T_bf88c6e2_3671_11ec_9aac_0242ac1c0002row9_col6{\n",
              "            background-color:  #420f75;\n",
              "            color:  #f1f1f1;\n",
              "        }</style><table id=\"T_bf88c6e2_3671_11ec_9aac_0242ac1c0002\" ><thead>    <tr>        <th class=\"blank level0\" ></th>        <th class=\"col_heading level0 col0\" >0</th>        <th class=\"col_heading level0 col1\" >1</th>        <th class=\"col_heading level0 col2\" >2</th>        <th class=\"col_heading level0 col3\" >3</th>        <th class=\"col_heading level0 col4\" >4</th>        <th class=\"col_heading level0 col5\" >5</th>        <th class=\"col_heading level0 col6\" >6</th>        <th class=\"col_heading level0 col7\" >7</th>        <th class=\"col_heading level0 col8\" >8</th>        <th class=\"col_heading level0 col9\" >9</th>    </tr></thead><tbody>\n",
              "                <tr>\n",
              "                        <th id=\"T_bf88c6e2_3671_11ec_9aac_0242ac1c0002level0_row0\" class=\"row_heading level0 row0\" >0</th>\n",
              "                        <td id=\"T_bf88c6e2_3671_11ec_9aac_0242ac1c0002row0_col0\" class=\"data row0 col0\" >1.000000</td>\n",
              "                        <td id=\"T_bf88c6e2_3671_11ec_9aac_0242ac1c0002row0_col1\" class=\"data row0 col1\" >0.347533</td>\n",
              "                        <td id=\"T_bf88c6e2_3671_11ec_9aac_0242ac1c0002row0_col2\" class=\"data row0 col2\" >0.398948</td>\n",
              "                        <td id=\"T_bf88c6e2_3671_11ec_9aac_0242ac1c0002row0_col3\" class=\"data row0 col3\" >0.455743</td>\n",
              "                        <td id=\"T_bf88c6e2_3671_11ec_9aac_0242ac1c0002row0_col4\" class=\"data row0 col4\" >0.072914</td>\n",
              "                        <td id=\"T_bf88c6e2_3671_11ec_9aac_0242ac1c0002row0_col5\" class=\"data row0 col5\" >-0.233402</td>\n",
              "                        <td id=\"T_bf88c6e2_3671_11ec_9aac_0242ac1c0002row0_col6\" class=\"data row0 col6\" >-0.731222</td>\n",
              "                        <td id=\"T_bf88c6e2_3671_11ec_9aac_0242ac1c0002row0_col7\" class=\"data row0 col7\" >0.477978</td>\n",
              "                        <td id=\"T_bf88c6e2_3671_11ec_9aac_0242ac1c0002row0_col8\" class=\"data row0 col8\" >-0.442621</td>\n",
              "                        <td id=\"T_bf88c6e2_3671_11ec_9aac_0242ac1c0002row0_col9\" class=\"data row0 col9\" >0.015185</td>\n",
              "            </tr>\n",
              "            <tr>\n",
              "                        <th id=\"T_bf88c6e2_3671_11ec_9aac_0242ac1c0002level0_row1\" class=\"row_heading level0 row1\" >1</th>\n",
              "                        <td id=\"T_bf88c6e2_3671_11ec_9aac_0242ac1c0002row1_col0\" class=\"data row1 col0\" >0.347533</td>\n",
              "                        <td id=\"T_bf88c6e2_3671_11ec_9aac_0242ac1c0002row1_col1\" class=\"data row1 col1\" >1.000000</td>\n",
              "                        <td id=\"T_bf88c6e2_3671_11ec_9aac_0242ac1c0002row1_col2\" class=\"data row1 col2\" >-0.284056</td>\n",
              "                        <td id=\"T_bf88c6e2_3671_11ec_9aac_0242ac1c0002row1_col3\" class=\"data row1 col3\" >0.571003</td>\n",
              "                        <td id=\"T_bf88c6e2_3671_11ec_9aac_0242ac1c0002row1_col4\" class=\"data row1 col4\" >-0.285483</td>\n",
              "                        <td id=\"T_bf88c6e2_3671_11ec_9aac_0242ac1c0002row1_col5\" class=\"data row1 col5\" >0.382480</td>\n",
              "                        <td id=\"T_bf88c6e2_3671_11ec_9aac_0242ac1c0002row1_col6\" class=\"data row1 col6\" >-0.362842</td>\n",
              "                        <td id=\"T_bf88c6e2_3671_11ec_9aac_0242ac1c0002row1_col7\" class=\"data row1 col7\" >0.642578</td>\n",
              "                        <td id=\"T_bf88c6e2_3671_11ec_9aac_0242ac1c0002row1_col8\" class=\"data row1 col8\" >0.252556</td>\n",
              "                        <td id=\"T_bf88c6e2_3671_11ec_9aac_0242ac1c0002row1_col9\" class=\"data row1 col9\" >0.190047</td>\n",
              "            </tr>\n",
              "            <tr>\n",
              "                        <th id=\"T_bf88c6e2_3671_11ec_9aac_0242ac1c0002level0_row2\" class=\"row_heading level0 row2\" >2</th>\n",
              "                        <td id=\"T_bf88c6e2_3671_11ec_9aac_0242ac1c0002row2_col0\" class=\"data row2 col0\" >0.398948</td>\n",
              "                        <td id=\"T_bf88c6e2_3671_11ec_9aac_0242ac1c0002row2_col1\" class=\"data row2 col1\" >-0.284056</td>\n",
              "                        <td id=\"T_bf88c6e2_3671_11ec_9aac_0242ac1c0002row2_col2\" class=\"data row2 col2\" >1.000000</td>\n",
              "                        <td id=\"T_bf88c6e2_3671_11ec_9aac_0242ac1c0002row2_col3\" class=\"data row2 col3\" >-0.523649</td>\n",
              "                        <td id=\"T_bf88c6e2_3671_11ec_9aac_0242ac1c0002row2_col4\" class=\"data row2 col4\" >0.152937</td>\n",
              "                        <td id=\"T_bf88c6e2_3671_11ec_9aac_0242ac1c0002row2_col5\" class=\"data row2 col5\" >-0.139176</td>\n",
              "                        <td id=\"T_bf88c6e2_3671_11ec_9aac_0242ac1c0002row2_col6\" class=\"data row2 col6\" >-0.092895</td>\n",
              "                        <td id=\"T_bf88c6e2_3671_11ec_9aac_0242ac1c0002row2_col7\" class=\"data row2 col7\" >0.016266</td>\n",
              "                        <td id=\"T_bf88c6e2_3671_11ec_9aac_0242ac1c0002row2_col8\" class=\"data row2 col8\" >-0.434016</td>\n",
              "                        <td id=\"T_bf88c6e2_3671_11ec_9aac_0242ac1c0002row2_col9\" class=\"data row2 col9\" >-0.383585</td>\n",
              "            </tr>\n",
              "            <tr>\n",
              "                        <th id=\"T_bf88c6e2_3671_11ec_9aac_0242ac1c0002level0_row3\" class=\"row_heading level0 row3\" >3</th>\n",
              "                        <td id=\"T_bf88c6e2_3671_11ec_9aac_0242ac1c0002row3_col0\" class=\"data row3 col0\" >0.455743</td>\n",
              "                        <td id=\"T_bf88c6e2_3671_11ec_9aac_0242ac1c0002row3_col1\" class=\"data row3 col1\" >0.571003</td>\n",
              "                        <td id=\"T_bf88c6e2_3671_11ec_9aac_0242ac1c0002row3_col2\" class=\"data row3 col2\" >-0.523649</td>\n",
              "                        <td id=\"T_bf88c6e2_3671_11ec_9aac_0242ac1c0002row3_col3\" class=\"data row3 col3\" >1.000000</td>\n",
              "                        <td id=\"T_bf88c6e2_3671_11ec_9aac_0242ac1c0002row3_col4\" class=\"data row3 col4\" >-0.225343</td>\n",
              "                        <td id=\"T_bf88c6e2_3671_11ec_9aac_0242ac1c0002row3_col5\" class=\"data row3 col5\" >-0.227577</td>\n",
              "                        <td id=\"T_bf88c6e2_3671_11ec_9aac_0242ac1c0002row3_col6\" class=\"data row3 col6\" >-0.481548</td>\n",
              "                        <td id=\"T_bf88c6e2_3671_11ec_9aac_0242ac1c0002row3_col7\" class=\"data row3 col7\" >0.473286</td>\n",
              "                        <td id=\"T_bf88c6e2_3671_11ec_9aac_0242ac1c0002row3_col8\" class=\"data row3 col8\" >0.279258</td>\n",
              "                        <td id=\"T_bf88c6e2_3671_11ec_9aac_0242ac1c0002row3_col9\" class=\"data row3 col9\" >0.446650</td>\n",
              "            </tr>\n",
              "            <tr>\n",
              "                        <th id=\"T_bf88c6e2_3671_11ec_9aac_0242ac1c0002level0_row4\" class=\"row_heading level0 row4\" >4</th>\n",
              "                        <td id=\"T_bf88c6e2_3671_11ec_9aac_0242ac1c0002row4_col0\" class=\"data row4 col0\" >0.072914</td>\n",
              "                        <td id=\"T_bf88c6e2_3671_11ec_9aac_0242ac1c0002row4_col1\" class=\"data row4 col1\" >-0.285483</td>\n",
              "                        <td id=\"T_bf88c6e2_3671_11ec_9aac_0242ac1c0002row4_col2\" class=\"data row4 col2\" >0.152937</td>\n",
              "                        <td id=\"T_bf88c6e2_3671_11ec_9aac_0242ac1c0002row4_col3\" class=\"data row4 col3\" >-0.225343</td>\n",
              "                        <td id=\"T_bf88c6e2_3671_11ec_9aac_0242ac1c0002row4_col4\" class=\"data row4 col4\" >1.000000</td>\n",
              "                        <td id=\"T_bf88c6e2_3671_11ec_9aac_0242ac1c0002row4_col5\" class=\"data row4 col5\" >-0.104438</td>\n",
              "                        <td id=\"T_bf88c6e2_3671_11ec_9aac_0242ac1c0002row4_col6\" class=\"data row4 col6\" >-0.147477</td>\n",
              "                        <td id=\"T_bf88c6e2_3671_11ec_9aac_0242ac1c0002row4_col7\" class=\"data row4 col7\" >-0.523283</td>\n",
              "                        <td id=\"T_bf88c6e2_3671_11ec_9aac_0242ac1c0002row4_col8\" class=\"data row4 col8\" >-0.614603</td>\n",
              "                        <td id=\"T_bf88c6e2_3671_11ec_9aac_0242ac1c0002row4_col9\" class=\"data row4 col9\" >-0.189916</td>\n",
              "            </tr>\n",
              "            <tr>\n",
              "                        <th id=\"T_bf88c6e2_3671_11ec_9aac_0242ac1c0002level0_row5\" class=\"row_heading level0 row5\" >5</th>\n",
              "                        <td id=\"T_bf88c6e2_3671_11ec_9aac_0242ac1c0002row5_col0\" class=\"data row5 col0\" >-0.233402</td>\n",
              "                        <td id=\"T_bf88c6e2_3671_11ec_9aac_0242ac1c0002row5_col1\" class=\"data row5 col1\" >0.382480</td>\n",
              "                        <td id=\"T_bf88c6e2_3671_11ec_9aac_0242ac1c0002row5_col2\" class=\"data row5 col2\" >-0.139176</td>\n",
              "                        <td id=\"T_bf88c6e2_3671_11ec_9aac_0242ac1c0002row5_col3\" class=\"data row5 col3\" >-0.227577</td>\n",
              "                        <td id=\"T_bf88c6e2_3671_11ec_9aac_0242ac1c0002row5_col4\" class=\"data row5 col4\" >-0.104438</td>\n",
              "                        <td id=\"T_bf88c6e2_3671_11ec_9aac_0242ac1c0002row5_col5\" class=\"data row5 col5\" >1.000000</td>\n",
              "                        <td id=\"T_bf88c6e2_3671_11ec_9aac_0242ac1c0002row5_col6\" class=\"data row5 col6\" >-0.030252</td>\n",
              "                        <td id=\"T_bf88c6e2_3671_11ec_9aac_0242ac1c0002row5_col7\" class=\"data row5 col7\" >0.417640</td>\n",
              "                        <td id=\"T_bf88c6e2_3671_11ec_9aac_0242ac1c0002row5_col8\" class=\"data row5 col8\" >0.205851</td>\n",
              "                        <td id=\"T_bf88c6e2_3671_11ec_9aac_0242ac1c0002row5_col9\" class=\"data row5 col9\" >0.095084</td>\n",
              "            </tr>\n",
              "            <tr>\n",
              "                        <th id=\"T_bf88c6e2_3671_11ec_9aac_0242ac1c0002level0_row6\" class=\"row_heading level0 row6\" >6</th>\n",
              "                        <td id=\"T_bf88c6e2_3671_11ec_9aac_0242ac1c0002row6_col0\" class=\"data row6 col0\" >-0.731222</td>\n",
              "                        <td id=\"T_bf88c6e2_3671_11ec_9aac_0242ac1c0002row6_col1\" class=\"data row6 col1\" >-0.362842</td>\n",
              "                        <td id=\"T_bf88c6e2_3671_11ec_9aac_0242ac1c0002row6_col2\" class=\"data row6 col2\" >-0.092895</td>\n",
              "                        <td id=\"T_bf88c6e2_3671_11ec_9aac_0242ac1c0002row6_col3\" class=\"data row6 col3\" >-0.481548</td>\n",
              "                        <td id=\"T_bf88c6e2_3671_11ec_9aac_0242ac1c0002row6_col4\" class=\"data row6 col4\" >-0.147477</td>\n",
              "                        <td id=\"T_bf88c6e2_3671_11ec_9aac_0242ac1c0002row6_col5\" class=\"data row6 col5\" >-0.030252</td>\n",
              "                        <td id=\"T_bf88c6e2_3671_11ec_9aac_0242ac1c0002row6_col6\" class=\"data row6 col6\" >1.000000</td>\n",
              "                        <td id=\"T_bf88c6e2_3671_11ec_9aac_0242ac1c0002row6_col7\" class=\"data row6 col7\" >-0.494440</td>\n",
              "                        <td id=\"T_bf88c6e2_3671_11ec_9aac_0242ac1c0002row6_col8\" class=\"data row6 col8\" >0.381407</td>\n",
              "                        <td id=\"T_bf88c6e2_3671_11ec_9aac_0242ac1c0002row6_col9\" class=\"data row6 col9\" >-0.353652</td>\n",
              "            </tr>\n",
              "            <tr>\n",
              "                        <th id=\"T_bf88c6e2_3671_11ec_9aac_0242ac1c0002level0_row7\" class=\"row_heading level0 row7\" >7</th>\n",
              "                        <td id=\"T_bf88c6e2_3671_11ec_9aac_0242ac1c0002row7_col0\" class=\"data row7 col0\" >0.477978</td>\n",
              "                        <td id=\"T_bf88c6e2_3671_11ec_9aac_0242ac1c0002row7_col1\" class=\"data row7 col1\" >0.642578</td>\n",
              "                        <td id=\"T_bf88c6e2_3671_11ec_9aac_0242ac1c0002row7_col2\" class=\"data row7 col2\" >0.016266</td>\n",
              "                        <td id=\"T_bf88c6e2_3671_11ec_9aac_0242ac1c0002row7_col3\" class=\"data row7 col3\" >0.473286</td>\n",
              "                        <td id=\"T_bf88c6e2_3671_11ec_9aac_0242ac1c0002row7_col4\" class=\"data row7 col4\" >-0.523283</td>\n",
              "                        <td id=\"T_bf88c6e2_3671_11ec_9aac_0242ac1c0002row7_col5\" class=\"data row7 col5\" >0.417640</td>\n",
              "                        <td id=\"T_bf88c6e2_3671_11ec_9aac_0242ac1c0002row7_col6\" class=\"data row7 col6\" >-0.494440</td>\n",
              "                        <td id=\"T_bf88c6e2_3671_11ec_9aac_0242ac1c0002row7_col7\" class=\"data row7 col7\" >1.000000</td>\n",
              "                        <td id=\"T_bf88c6e2_3671_11ec_9aac_0242ac1c0002row7_col8\" class=\"data row7 col8\" >0.375873</td>\n",
              "                        <td id=\"T_bf88c6e2_3671_11ec_9aac_0242ac1c0002row7_col9\" class=\"data row7 col9\" >0.417863</td>\n",
              "            </tr>\n",
              "            <tr>\n",
              "                        <th id=\"T_bf88c6e2_3671_11ec_9aac_0242ac1c0002level0_row8\" class=\"row_heading level0 row8\" >8</th>\n",
              "                        <td id=\"T_bf88c6e2_3671_11ec_9aac_0242ac1c0002row8_col0\" class=\"data row8 col0\" >-0.442621</td>\n",
              "                        <td id=\"T_bf88c6e2_3671_11ec_9aac_0242ac1c0002row8_col1\" class=\"data row8 col1\" >0.252556</td>\n",
              "                        <td id=\"T_bf88c6e2_3671_11ec_9aac_0242ac1c0002row8_col2\" class=\"data row8 col2\" >-0.434016</td>\n",
              "                        <td id=\"T_bf88c6e2_3671_11ec_9aac_0242ac1c0002row8_col3\" class=\"data row8 col3\" >0.279258</td>\n",
              "                        <td id=\"T_bf88c6e2_3671_11ec_9aac_0242ac1c0002row8_col4\" class=\"data row8 col4\" >-0.614603</td>\n",
              "                        <td id=\"T_bf88c6e2_3671_11ec_9aac_0242ac1c0002row8_col5\" class=\"data row8 col5\" >0.205851</td>\n",
              "                        <td id=\"T_bf88c6e2_3671_11ec_9aac_0242ac1c0002row8_col6\" class=\"data row8 col6\" >0.381407</td>\n",
              "                        <td id=\"T_bf88c6e2_3671_11ec_9aac_0242ac1c0002row8_col7\" class=\"data row8 col7\" >0.375873</td>\n",
              "                        <td id=\"T_bf88c6e2_3671_11ec_9aac_0242ac1c0002row8_col8\" class=\"data row8 col8\" >1.000000</td>\n",
              "                        <td id=\"T_bf88c6e2_3671_11ec_9aac_0242ac1c0002row8_col9\" class=\"data row8 col9\" >0.150421</td>\n",
              "            </tr>\n",
              "            <tr>\n",
              "                        <th id=\"T_bf88c6e2_3671_11ec_9aac_0242ac1c0002level0_row9\" class=\"row_heading level0 row9\" >9</th>\n",
              "                        <td id=\"T_bf88c6e2_3671_11ec_9aac_0242ac1c0002row9_col0\" class=\"data row9 col0\" >0.015185</td>\n",
              "                        <td id=\"T_bf88c6e2_3671_11ec_9aac_0242ac1c0002row9_col1\" class=\"data row9 col1\" >0.190047</td>\n",
              "                        <td id=\"T_bf88c6e2_3671_11ec_9aac_0242ac1c0002row9_col2\" class=\"data row9 col2\" >-0.383585</td>\n",
              "                        <td id=\"T_bf88c6e2_3671_11ec_9aac_0242ac1c0002row9_col3\" class=\"data row9 col3\" >0.446650</td>\n",
              "                        <td id=\"T_bf88c6e2_3671_11ec_9aac_0242ac1c0002row9_col4\" class=\"data row9 col4\" >-0.189916</td>\n",
              "                        <td id=\"T_bf88c6e2_3671_11ec_9aac_0242ac1c0002row9_col5\" class=\"data row9 col5\" >0.095084</td>\n",
              "                        <td id=\"T_bf88c6e2_3671_11ec_9aac_0242ac1c0002row9_col6\" class=\"data row9 col6\" >-0.353652</td>\n",
              "                        <td id=\"T_bf88c6e2_3671_11ec_9aac_0242ac1c0002row9_col7\" class=\"data row9 col7\" >0.417863</td>\n",
              "                        <td id=\"T_bf88c6e2_3671_11ec_9aac_0242ac1c0002row9_col8\" class=\"data row9 col8\" >0.150421</td>\n",
              "                        <td id=\"T_bf88c6e2_3671_11ec_9aac_0242ac1c0002row9_col9\" class=\"data row9 col9\" >1.000000</td>\n",
              "            </tr>\n",
              "    </tbody></table>"
            ],
            "text/plain": [
              "<pandas.io.formats.style.Styler at 0x7fef2e390150>"
            ]
          },
          "metadata": {},
          "execution_count": 13
        }
      ]
    },
    {
      "cell_type": "code",
      "metadata": {
        "id": "_KMH7pI6H8Tx"
      },
      "source": [
        "xtrain, xtest, ytrain, ytest = train_test_split(x,y,test_size=0.3,random_state=0)"
      ],
      "execution_count": null,
      "outputs": []
    },
    {
      "cell_type": "code",
      "metadata": {
        "colab": {
          "base_uri": "https://localhost:8080/"
        },
        "id": "lumk8UiIH9Fx",
        "outputId": "f67bbdbf-23d3-40f9-f5a6-13b5d1db5610"
      },
      "source": [
        "from sklearn.linear_model import LogisticRegression\n",
        "from sklearn.metrics import accuracy_score\n",
        "\n",
        "model = LogisticRegression()\n",
        "model.fit(xtrain,ytrain)\n",
        "model.score(xtest,ytest)*100"
      ],
      "execution_count": null,
      "outputs": [
        {
          "output_type": "execute_result",
          "data": {
            "text/plain": [
              "92.93990245254193"
            ]
          },
          "metadata": {},
          "execution_count": 15
        }
      ]
    },
    {
      "cell_type": "code",
      "metadata": {
        "colab": {
          "base_uri": "https://localhost:8080/"
        },
        "id": "pXlKiMRmJGAQ",
        "outputId": "16b9a1b7-5692-4433-daf1-36e4443f109c"
      },
      "source": [
        "ypred = model.predict(xtest)\n",
        "ypred"
      ],
      "execution_count": null,
      "outputs": [
        {
          "output_type": "execute_result",
          "data": {
            "text/plain": [
              "array([2, 2, 2, ..., 2, 2, 2])"
            ]
          },
          "metadata": {},
          "execution_count": 16
        }
      ]
    },
    {
      "cell_type": "code",
      "metadata": {
        "colab": {
          "base_uri": "https://localhost:8080/"
        },
        "id": "I-WDV1MRJJT-",
        "outputId": "8e309a05-db09-4303-d017-06a44e937b13"
      },
      "source": [
        "from sklearn.metrics import classification_report,confusion_matrix,accuracy_score\n",
        "\n",
        "cm=confusion_matrix(ytest,ypred)\n",
        "print(accuracy_score(ytest,ypred))"
      ],
      "execution_count": null,
      "outputs": [
        {
          "output_type": "stream",
          "name": "stdout",
          "text": [
            "0.9293990245254193\n"
          ]
        }
      ]
    },
    {
      "cell_type": "code",
      "metadata": {
        "colab": {
          "base_uri": "https://localhost:8080/",
          "height": 296
        },
        "id": "G-_SrK00JSTu",
        "outputId": "033f2e54-b470-4d16-b7cc-58fb2d11d98a"
      },
      "source": [
        "import seaborn as sns\n",
        "import matplotlib.pyplot as plt     \n",
        "\n",
        "ax= plt.subplot()\n",
        "sns.heatmap(cm,annot=True,fmt='d',ax=ax)\n",
        "\n",
        "ax.set_xlabel('Predicted labels');\n",
        "ax.set_ylabel('True labels');\n",
        "ax.set_title('Confusion Matrix');\n",
        "ax.xaxis.set_ticklabels(['other', 'negative','positive']);\n",
        "ax.yaxis.set_ticklabels(['other', 'nagative','positive']);"
      ],
      "execution_count": null,
      "outputs": [
        {
          "output_type": "display_data",
          "data": {
            "image/png": "[encoded data removed]",
            "text/plain": [
              "<Figure size 432x288 with 2 Axes>"
            ]
          },
          "metadata": {
            "needs_background": "light"
          }
        }
      ]
    },
    {
      "cell_type": "code",
      "metadata": {
        "colab": {
          "base_uri": "https://localhost:8080/"
        },
        "id": "lOTef4YSJbrP",
        "outputId": "37651c00-f6a4-4bc8-df84-c2eacc7813ea"
      },
      "source": [
        "from sklearn.metrics import classification_report\n",
        "\n",
        "cr=classification_report(ytest,ypred,zero_division=0)\n",
        "print(cr)"
      ],
      "execution_count": null,
      "outputs": [
        {
          "output_type": "stream",
          "name": "stdout",
          "text": [
            "              precision    recall  f1-score   support\n",
            "\n",
            "           0       0.00      0.00      0.00      7206\n",
            "           1       0.50      0.15      0.23     51567\n",
            "           2       0.94      0.99      0.96    764006\n",
            "\n",
            "    accuracy                           0.93    822779\n",
            "   macro avg       0.48      0.38      0.40    822779\n",
            "weighted avg       0.90      0.93      0.91    822779\n",
            "\n"
          ]
        }
      ]
    }
  ]
}