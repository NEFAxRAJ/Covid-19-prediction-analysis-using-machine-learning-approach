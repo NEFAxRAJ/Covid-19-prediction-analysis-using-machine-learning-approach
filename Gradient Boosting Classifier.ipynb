{
  "nbformat": 4,
  "nbformat_minor": 0,
  "metadata": {
    "kernelspec": {
      "display_name": "Python 3 (ipykernel)",
      "language": "python",
      "name": "python3"
    },
    "language_info": {
      "codemirror_mode": {
        "name": "ipython",
        "version": 3
      },
      "file_extension": ".py",
      "mimetype": "text/x-python",
      "name": "python",
      "nbconvert_exporter": "python",
      "pygments_lexer": "ipython3",
      "version": "3.8.8"
    },
    "colab": {
      "name": "GBC.ipynb",
      "provenance": [],
      "collapsed_sections": []
    }
  },
  "cells": [
    {
      "cell_type": "markdown",
      "metadata": {
        "id": "zeXpzztGse4U"
      },
      "source": [
        "# library imports"
      ]
    },
    {
      "cell_type": "code",
      "metadata": {
        "colab": {
          "base_uri": "https://localhost:8080/"
        },
        "id": "WnskKk_dse4Z",
        "outputId": "c777d6f0-dabc-4fd0-8910-96cf44a17db1"
      },
      "source": [
        "import pandas as pd\n",
        "import matplotlib.pyplot as plt\n",
        "import seaborn as sns\n",
        "from sklearn.model_selection import train_test_split\n",
        "import numpy as np\n",
        "from google.colab import drive\n",
        "drive.mount('/content/gd')"
      ],
      "execution_count": null,
      "outputs": [
        {
          "output_type": "stream",
          "name": "stdout",
          "text": [
            "Drive already mounted at /content/gd; to attempt to forcibly remount, call drive.mount(\"/content/gd\", force_remount=True).\n"
          ]
        }
      ]
    },
    {
      "cell_type": "markdown",
      "metadata": {
        "tags": [],
        "id": "lDN6OB8ose4c"
      },
      "source": [
        "# data read"
      ]
    },
    {
      "cell_type": "code",
      "metadata": {
        "id": "Q6_VHdC3se4c"
      },
      "source": [
        "df=pd.read_csv('gd/My Drive/SARS-2/data/corona_tested_individuals_ver_0083.english.csv',low_memory=False)"
      ],
      "execution_count": null,
      "outputs": []
    },
    {
      "cell_type": "markdown",
      "metadata": {
        "id": "xCmA5V2Fse4d"
      },
      "source": [
        "# view raw data"
      ]
    },
    {
      "cell_type": "code",
      "metadata": {
        "colab": {
          "base_uri": "https://localhost:8080/"
        },
        "id": "iDTk-91pse4d",
        "outputId": "9908f5ca-51f7-4f18-f9e8-abb9c5e8d0dc"
      },
      "source": [
        "df.head()"
      ],
      "execution_count": null,
      "outputs": [
        {
          "output_type": "execute_result",
          "data": {
            "text/html": [
              "<div>\n",
              "<style scoped>\n",
              "    .dataframe tbody tr th:only-of-type {\n",
              "        vertical-align: middle;\n",
              "    }\n",
              "\n",
              "    .dataframe tbody tr th {\n",
              "        vertical-align: top;\n",
              "    }\n",
              "\n",
              "    .dataframe thead th {\n",
              "        text-align: right;\n",
              "    }\n",
              "</style>\n",
              "<table border=\"1\" class=\"dataframe\">\n",
              "  <thead>\n",
              "    <tr style=\"text-align: right;\">\n",
              "      <th></th>\n",
              "      <th>test_date</th>\n",
              "      <th>cough</th>\n",
              "      <th>fever</th>\n",
              "      <th>sore_throat</th>\n",
              "      <th>shortness_of_breath</th>\n",
              "      <th>head_ache</th>\n",
              "      <th>corona_result</th>\n",
              "      <th>age_60_and_above</th>\n",
              "      <th>gender</th>\n",
              "      <th>test_indication</th>\n",
              "    </tr>\n",
              "  </thead>\n",
              "  <tbody>\n",
              "    <tr>\n",
              "      <th>0</th>\n",
              "      <td>2020-11-12</td>\n",
              "      <td>0</td>\n",
              "      <td>0</td>\n",
              "      <td>0</td>\n",
              "      <td>0</td>\n",
              "      <td>0</td>\n",
              "      <td>negative</td>\n",
              "      <td>No</td>\n",
              "      <td>male</td>\n",
              "      <td>Other</td>\n",
              "    </tr>\n",
              "    <tr>\n",
              "      <th>1</th>\n",
              "      <td>2020-11-12</td>\n",
              "      <td>0</td>\n",
              "      <td>1</td>\n",
              "      <td>0</td>\n",
              "      <td>0</td>\n",
              "      <td>0</td>\n",
              "      <td>negative</td>\n",
              "      <td>No</td>\n",
              "      <td>male</td>\n",
              "      <td>Other</td>\n",
              "    </tr>\n",
              "    <tr>\n",
              "      <th>2</th>\n",
              "      <td>2020-11-12</td>\n",
              "      <td>0</td>\n",
              "      <td>0</td>\n",
              "      <td>0</td>\n",
              "      <td>0</td>\n",
              "      <td>0</td>\n",
              "      <td>negative</td>\n",
              "      <td>Yes</td>\n",
              "      <td>female</td>\n",
              "      <td>Other</td>\n",
              "    </tr>\n",
              "    <tr>\n",
              "      <th>3</th>\n",
              "      <td>2020-11-12</td>\n",
              "      <td>0</td>\n",
              "      <td>0</td>\n",
              "      <td>0</td>\n",
              "      <td>0</td>\n",
              "      <td>0</td>\n",
              "      <td>negative</td>\n",
              "      <td>No</td>\n",
              "      <td>male</td>\n",
              "      <td>Other</td>\n",
              "    </tr>\n",
              "    <tr>\n",
              "      <th>4</th>\n",
              "      <td>2020-11-12</td>\n",
              "      <td>0</td>\n",
              "      <td>1</td>\n",
              "      <td>0</td>\n",
              "      <td>0</td>\n",
              "      <td>0</td>\n",
              "      <td>negative</td>\n",
              "      <td>No</td>\n",
              "      <td>male</td>\n",
              "      <td>Contact with confirmed</td>\n",
              "    </tr>\n",
              "  </tbody>\n",
              "</table>\n",
              "</div>"
            ],
            "text/plain": [
              "    test_date  cough  fever  ...  age_60_and_above  gender         test_indication\n",
              "0  2020-11-12      0      0  ...                No    male                   Other\n",
              "1  2020-11-12      0      1  ...                No    male                   Other\n",
              "2  2020-11-12      0      0  ...               Yes  female                   Other\n",
              "3  2020-11-12      0      0  ...                No    male                   Other\n",
              "4  2020-11-12      0      1  ...                No    male  Contact with confirmed\n",
              "\n",
              "[5 rows x 10 columns]"
            ]
          },
          "metadata": {},
          "execution_count": 52
        }
      ]
    },
    {
      "cell_type": "markdown",
      "metadata": {
        "id": "KBrT64HIse4f"
      },
      "source": [
        "# data preprocessing"
      ]
    },
    {
      "cell_type": "code",
      "metadata": {
        "colab": {
          "base_uri": "https://localhost:8080/"
        },
        "id": "pzb-fkEOse4g",
        "outputId": "9fd8c8f4-b42a-4c0f-f92b-ffb939789482"
      },
      "source": [
        "df.shape"
      ],
      "execution_count": null,
      "outputs": [
        {
          "output_type": "execute_result",
          "data": {
            "text/plain": [
              "(2742596, 10)"
            ]
          },
          "metadata": {},
          "execution_count": 53
        }
      ]
    },
    {
      "cell_type": "code",
      "metadata": {
        "id": "MXvb7vzLse4i"
      },
      "source": [
        "df=df.drop(['test_date'],axis=1)"
      ],
      "execution_count": null,
      "outputs": []
    },
    {
      "cell_type": "markdown",
      "metadata": {
        "id": "bb9WKmqDse4i"
      },
      "source": [
        "### checking whether any value of dataset is null or not"
      ]
    },
    {
      "cell_type": "code",
      "metadata": {
        "colab": {
          "base_uri": "https://localhost:8080/"
        },
        "id": "H0uahBh0se4j",
        "outputId": "38c008ee-5b09-4557-b91f-82b68d418c46"
      },
      "source": [
        "df.isna().sum()"
      ],
      "execution_count": null,
      "outputs": [
        {
          "output_type": "execute_result",
          "data": {
            "text/plain": [
              "cough                       0\n",
              "fever                       0\n",
              "sore_throat                 0\n",
              "shortness_of_breath         0\n",
              "head_ache                   0\n",
              "corona_result               0\n",
              "age_60_and_above       547644\n",
              "gender                  92886\n",
              "test_indication             0\n",
              "dtype: int64"
            ]
          },
          "metadata": {},
          "execution_count": 56
        }
      ]
    },
    {
      "cell_type": "markdown",
      "metadata": {
        "id": "HCDjB_NWse4j"
      },
      "source": [
        "### remove all null values"
      ]
    },
    {
      "cell_type": "code",
      "metadata": {
        "id": "0cgUfMTzse4k"
      },
      "source": [
        "df=df.dropna()"
      ],
      "execution_count": null,
      "outputs": []
    },
    {
      "cell_type": "markdown",
      "metadata": {
        "id": "zW8Ycc3Lse4k"
      },
      "source": [
        "### replacing value with binary digit"
      ]
    },
    {
      "cell_type": "code",
      "metadata": {
        "colab": {
          "base_uri": "https://localhost:8080/"
        },
        "id": "TF22DcLwse4k",
        "outputId": "e114c51c-90dd-4ecd-bb3d-ec1f6d1ffd18"
      },
      "source": [
        "df['gender'].replace({'male':0, 'female':1}, inplace=True)\n",
        "df.gender=df.gender.fillna(2)\n",
        "print(df)"
      ],
      "execution_count": null,
      "outputs": [
        {
          "output_type": "stream",
          "name": "stdout",
          "text": [
            "         cough  fever  ...  gender         test_indication\n",
            "0            0      0  ...       0                   Other\n",
            "1            0      1  ...       0                   Other\n",
            "2            0      0  ...       1                   Other\n",
            "3            0      0  ...       0                   Other\n",
            "4            0      1  ...       0  Contact with confirmed\n",
            "...        ...    ...  ...     ...                     ...\n",
            "2731639      1      1  ...       1  Contact with confirmed\n",
            "2731640      0      0  ...       1                   Other\n",
            "2731643      1      0  ...       0  Contact with confirmed\n",
            "2731644      0      0  ...       1                   Other\n",
            "2731647      0      0  ...       1                   Other\n",
            "\n",
            "[2186227 rows x 9 columns]\n"
          ]
        }
      ]
    },
    {
      "cell_type": "code",
      "metadata": {
        "colab": {
          "base_uri": "https://localhost:8080/"
        },
        "id": "CDp5Ybyise4l",
        "outputId": "e1f06f14-9873-4255-a0f3-0fef5d1e8780"
      },
      "source": [
        "df['age_60_and_above'].replace({'No':0, 'Yes':1}, inplace=True)\n",
        "df.age_60_and_above=df.age_60_and_above.fillna(2)\n",
        "print(df)"
      ],
      "execution_count": null,
      "outputs": [
        {
          "output_type": "stream",
          "name": "stdout",
          "text": [
            "         cough  fever  ...  gender         test_indication\n",
            "0            0      0  ...       0                   Other\n",
            "1            0      1  ...       0                   Other\n",
            "2            0      0  ...       1                   Other\n",
            "3            0      0  ...       0                   Other\n",
            "4            0      1  ...       0  Contact with confirmed\n",
            "...        ...    ...  ...     ...                     ...\n",
            "2731639      1      1  ...       1  Contact with confirmed\n",
            "2731640      0      0  ...       1                   Other\n",
            "2731643      1      0  ...       0  Contact with confirmed\n",
            "2731644      0      0  ...       1                   Other\n",
            "2731647      0      0  ...       1                   Other\n",
            "\n",
            "[2186227 rows x 9 columns]\n"
          ]
        }
      ]
    },
    {
      "cell_type": "code",
      "metadata": {
        "colab": {
          "base_uri": "https://localhost:8080/"
        },
        "id": "Vy1K1z1Nse4l",
        "outputId": "5752c063-c1fc-449c-d373-8c5917e4c311"
      },
      "source": [
        "df['test_indication'].replace({'Abroad':0, 'Contact with confirmed':1, 'Other':2}, inplace=True)\n",
        "print(df)"
      ],
      "execution_count": null,
      "outputs": [
        {
          "output_type": "stream",
          "name": "stdout",
          "text": [
            "         cough  fever  sore_throat  ...  age_60_and_above  gender test_indication\n",
            "0            0      0            0  ...                 0       0               2\n",
            "1            0      1            0  ...                 0       0               2\n",
            "2            0      0            0  ...                 1       1               2\n",
            "3            0      0            0  ...                 0       0               2\n",
            "4            0      1            0  ...                 0       0               1\n",
            "...        ...    ...          ...  ...               ...     ...             ...\n",
            "2731639      1      1            1  ...                 0       1               1\n",
            "2731640      0      0            0  ...                 0       1               2\n",
            "2731643      1      0            0  ...                 0       0               1\n",
            "2731644      0      0            0  ...                 0       1               2\n",
            "2731647      0      0            0  ...                 0       1               2\n",
            "\n",
            "[2186227 rows x 9 columns]\n"
          ]
        }
      ]
    },
    {
      "cell_type": "code",
      "metadata": {
        "id": "r9_9Ejefse4m"
      },
      "source": [
        "x=df.drop(columns=['corona_result','test_indication'])\n",
        "y=df['test_indication']"
      ],
      "execution_count": null,
      "outputs": []
    },
    {
      "cell_type": "code",
      "metadata": {
        "colab": {
          "base_uri": "https://localhost:8080/"
        },
        "id": "tl0fRIu4se4m",
        "outputId": "ea42b4fa-e1f3-49a6-b458-d661ead628ad"
      },
      "source": [
        "df.dtypes"
      ],
      "execution_count": null,
      "outputs": [
        {
          "output_type": "execute_result",
          "data": {
            "text/plain": [
              "cough                   int64\n",
              "fever                   int64\n",
              "sore_throat             int64\n",
              "shortness_of_breath     int64\n",
              "head_ache               int64\n",
              "corona_result          object\n",
              "age_60_and_above        int64\n",
              "gender                  int64\n",
              "test_indication         int64\n",
              "dtype: object"
            ]
          },
          "metadata": {},
          "execution_count": 62
        }
      ]
    },
    {
      "cell_type": "code",
      "metadata": {
        "colab": {
          "base_uri": "https://localhost:8080/",
          "height": 422
        },
        "id": "q737WlUjW94_",
        "outputId": "391598af-fc98-40dd-ca36-878540b571ea"
      },
      "source": [
        "df"
      ],
      "execution_count": null,
      "outputs": [
        {
          "output_type": "execute_result",
          "data": {
            "text/html": [
              "<div>\n",
              "<style scoped>\n",
              "    .dataframe tbody tr th:only-of-type {\n",
              "        vertical-align: middle;\n",
              "    }\n",
              "\n",
              "    .dataframe tbody tr th {\n",
              "        vertical-align: top;\n",
              "    }\n",
              "\n",
              "    .dataframe thead th {\n",
              "        text-align: right;\n",
              "    }\n",
              "</style>\n",
              "<table border=\"1\" class=\"dataframe\">\n",
              "  <thead>\n",
              "    <tr style=\"text-align: right;\">\n",
              "      <th></th>\n",
              "      <th>cough</th>\n",
              "      <th>fever</th>\n",
              "      <th>sore_throat</th>\n",
              "      <th>shortness_of_breath</th>\n",
              "      <th>head_ache</th>\n",
              "      <th>corona_result</th>\n",
              "      <th>age_60_and_above</th>\n",
              "      <th>gender</th>\n",
              "      <th>test_indication</th>\n",
              "    </tr>\n",
              "  </thead>\n",
              "  <tbody>\n",
              "    <tr>\n",
              "      <th>0</th>\n",
              "      <td>0</td>\n",
              "      <td>0</td>\n",
              "      <td>0</td>\n",
              "      <td>0</td>\n",
              "      <td>0</td>\n",
              "      <td>negative</td>\n",
              "      <td>0</td>\n",
              "      <td>0</td>\n",
              "      <td>2</td>\n",
              "    </tr>\n",
              "    <tr>\n",
              "      <th>1</th>\n",
              "      <td>0</td>\n",
              "      <td>1</td>\n",
              "      <td>0</td>\n",
              "      <td>0</td>\n",
              "      <td>0</td>\n",
              "      <td>negative</td>\n",
              "      <td>0</td>\n",
              "      <td>0</td>\n",
              "      <td>2</td>\n",
              "    </tr>\n",
              "    <tr>\n",
              "      <th>2</th>\n",
              "      <td>0</td>\n",
              "      <td>0</td>\n",
              "      <td>0</td>\n",
              "      <td>0</td>\n",
              "      <td>0</td>\n",
              "      <td>negative</td>\n",
              "      <td>1</td>\n",
              "      <td>1</td>\n",
              "      <td>2</td>\n",
              "    </tr>\n",
              "    <tr>\n",
              "      <th>3</th>\n",
              "      <td>0</td>\n",
              "      <td>0</td>\n",
              "      <td>0</td>\n",
              "      <td>0</td>\n",
              "      <td>0</td>\n",
              "      <td>negative</td>\n",
              "      <td>0</td>\n",
              "      <td>0</td>\n",
              "      <td>2</td>\n",
              "    </tr>\n",
              "    <tr>\n",
              "      <th>4</th>\n",
              "      <td>0</td>\n",
              "      <td>1</td>\n",
              "      <td>0</td>\n",
              "      <td>0</td>\n",
              "      <td>0</td>\n",
              "      <td>negative</td>\n",
              "      <td>0</td>\n",
              "      <td>0</td>\n",
              "      <td>1</td>\n",
              "    </tr>\n",
              "    <tr>\n",
              "      <th>...</th>\n",
              "      <td>...</td>\n",
              "      <td>...</td>\n",
              "      <td>...</td>\n",
              "      <td>...</td>\n",
              "      <td>...</td>\n",
              "      <td>...</td>\n",
              "      <td>...</td>\n",
              "      <td>...</td>\n",
              "      <td>...</td>\n",
              "    </tr>\n",
              "    <tr>\n",
              "      <th>2731639</th>\n",
              "      <td>1</td>\n",
              "      <td>1</td>\n",
              "      <td>1</td>\n",
              "      <td>1</td>\n",
              "      <td>1</td>\n",
              "      <td>positive</td>\n",
              "      <td>0</td>\n",
              "      <td>1</td>\n",
              "      <td>1</td>\n",
              "    </tr>\n",
              "    <tr>\n",
              "      <th>2731640</th>\n",
              "      <td>0</td>\n",
              "      <td>0</td>\n",
              "      <td>0</td>\n",
              "      <td>0</td>\n",
              "      <td>0</td>\n",
              "      <td>negative</td>\n",
              "      <td>0</td>\n",
              "      <td>1</td>\n",
              "      <td>2</td>\n",
              "    </tr>\n",
              "    <tr>\n",
              "      <th>2731643</th>\n",
              "      <td>1</td>\n",
              "      <td>0</td>\n",
              "      <td>0</td>\n",
              "      <td>0</td>\n",
              "      <td>0</td>\n",
              "      <td>negative</td>\n",
              "      <td>0</td>\n",
              "      <td>0</td>\n",
              "      <td>1</td>\n",
              "    </tr>\n",
              "    <tr>\n",
              "      <th>2731644</th>\n",
              "      <td>0</td>\n",
              "      <td>0</td>\n",
              "      <td>0</td>\n",
              "      <td>0</td>\n",
              "      <td>0</td>\n",
              "      <td>negative</td>\n",
              "      <td>0</td>\n",
              "      <td>1</td>\n",
              "      <td>2</td>\n",
              "    </tr>\n",
              "    <tr>\n",
              "      <th>2731647</th>\n",
              "      <td>0</td>\n",
              "      <td>0</td>\n",
              "      <td>0</td>\n",
              "      <td>0</td>\n",
              "      <td>0</td>\n",
              "      <td>negative</td>\n",
              "      <td>0</td>\n",
              "      <td>1</td>\n",
              "      <td>2</td>\n",
              "    </tr>\n",
              "  </tbody>\n",
              "</table>\n",
              "<p>2186227 rows × 9 columns</p>\n",
              "</div>"
            ],
            "text/plain": [
              "         cough  fever  sore_throat  ...  age_60_and_above  gender test_indication\n",
              "0            0      0            0  ...                 0       0               2\n",
              "1            0      1            0  ...                 0       0               2\n",
              "2            0      0            0  ...                 1       1               2\n",
              "3            0      0            0  ...                 0       0               2\n",
              "4            0      1            0  ...                 0       0               1\n",
              "...        ...    ...          ...  ...               ...     ...             ...\n",
              "2731639      1      1            1  ...                 0       1               1\n",
              "2731640      0      0            0  ...                 0       1               2\n",
              "2731643      1      0            0  ...                 0       0               1\n",
              "2731644      0      0            0  ...                 0       1               2\n",
              "2731647      0      0            0  ...                 0       1               2\n",
              "\n",
              "[2186227 rows x 9 columns]"
            ]
          },
          "metadata": {},
          "execution_count": 63
        }
      ]
    },
    {
      "cell_type": "markdown",
      "metadata": {
        "id": "eodRPKBEse4n"
      },
      "source": [
        "# describe all data"
      ]
    },
    {
      "cell_type": "code",
      "metadata": {
        "colab": {
          "base_uri": "https://localhost:8080/"
        },
        "id": "ok3BTkVJse4n",
        "outputId": "9b13f6c1-08ef-4d93-987a-d161cc407e8b"
      },
      "source": [
        "f = plt.figure(figsize=(19, 15))\n",
        "plt.matshow(df.corr(),fignum=f.number)\n",
        "plt.xticks(range(df.select_dtypes(['number']).shape[1]), df.select_dtypes(['number']).columns, fontsize=19, rotation=45)\n",
        "plt.yticks(range(df.select_dtypes(['number']).shape[1]), df.select_dtypes(['number']).columns, fontsize=19)\n",
        "plt.title('Correlation Matrix', fontsize=26);\n",
        "dataplot=sns.heatmap(df.corr(),cmap='magma',annot=True)\n",
        "plt.show()"
      ],
      "execution_count": null,
      "outputs": [
        {
          "output_type": "display_data",
          "data": {
            "image/png": "[encoded data removed]",
            "text/plain": [
              "<Figure size 1368x1080 with 2 Axes>"
            ]
          },
          "metadata": {
            "needs_background": "light"
          }
        }
      ]
    },
    {
      "cell_type": "markdown",
      "metadata": {
        "id": "ObqUtexcse4o"
      },
      "source": [
        "#  statistics vision"
      ]
    },
    {
      "cell_type": "code",
      "metadata": {
        "colab": {
          "base_uri": "https://localhost:8080/"
        },
        "id": "loepz3pPse4o",
        "outputId": "35b0833a-9937-405d-bf20-e0e6b87cd68c"
      },
      "source": [
        "rs = np.random.RandomState(0)\n",
        "df = pd.DataFrame(rs.rand(10, 10))\n",
        "corr = df.corr()\n",
        "corr.style.background_gradient(cmap='magma')"
      ],
      "execution_count": null,
      "outputs": [
        {
          "output_type": "execute_result",
          "data": {
            "text/html": [
              "<style  type=\"text/css\" >\n",
              "#T_2b1436b0_320a_11ec_8f4d_0242ac1c0002row0_col0,#T_2b1436b0_320a_11ec_8f4d_0242ac1c0002row1_col1,#T_2b1436b0_320a_11ec_8f4d_0242ac1c0002row2_col2,#T_2b1436b0_320a_11ec_8f4d_0242ac1c0002row3_col3,#T_2b1436b0_320a_11ec_8f4d_0242ac1c0002row4_col4,#T_2b1436b0_320a_11ec_8f4d_0242ac1c0002row5_col5,#T_2b1436b0_320a_11ec_8f4d_0242ac1c0002row6_col6,#T_2b1436b0_320a_11ec_8f4d_0242ac1c0002row7_col7,#T_2b1436b0_320a_11ec_8f4d_0242ac1c0002row8_col8,#T_2b1436b0_320a_11ec_8f4d_0242ac1c0002row9_col9{\n",
              "            background-color:  #fcfdbf;\n",
              "            color:  #000000;\n",
              "        }#T_2b1436b0_320a_11ec_8f4d_0242ac1c0002row0_col1{\n",
              "            background-color:  #bf3a77;\n",
              "            color:  #f1f1f1;\n",
              "        }#T_2b1436b0_320a_11ec_8f4d_0242ac1c0002row0_col2{\n",
              "            background-color:  #e04c67;\n",
              "            color:  #000000;\n",
              "        }#T_2b1436b0_320a_11ec_8f4d_0242ac1c0002row0_col3,#T_2b1436b0_320a_11ec_8f4d_0242ac1c0002row8_col6{\n",
              "            background-color:  #eb5760;\n",
              "            color:  #000000;\n",
              "        }#T_2b1436b0_320a_11ec_8f4d_0242ac1c0002row0_col4{\n",
              "            background-color:  #982d80;\n",
              "            color:  #f1f1f1;\n",
              "        }#T_2b1436b0_320a_11ec_8f4d_0242ac1c0002row0_col5,#T_2b1436b0_320a_11ec_8f4d_0242ac1c0002row0_col6,#T_2b1436b0_320a_11ec_8f4d_0242ac1c0002row2_col3,#T_2b1436b0_320a_11ec_8f4d_0242ac1c0002row2_col9,#T_2b1436b0_320a_11ec_8f4d_0242ac1c0002row3_col2,#T_2b1436b0_320a_11ec_8f4d_0242ac1c0002row4_col7,#T_2b1436b0_320a_11ec_8f4d_0242ac1c0002row4_col8,#T_2b1436b0_320a_11ec_8f4d_0242ac1c0002row6_col0,#T_2b1436b0_320a_11ec_8f4d_0242ac1c0002row6_col1,#T_2b1436b0_320a_11ec_8f4d_0242ac1c0002row8_col4{\n",
              "            background-color:  #000004;\n",
              "            color:  #f1f1f1;\n",
              "        }#T_2b1436b0_320a_11ec_8f4d_0242ac1c0002row0_col7{\n",
              "            background-color:  #ef5d5e;\n",
              "            color:  #000000;\n",
              "        }#T_2b1436b0_320a_11ec_8f4d_0242ac1c0002row0_col8{\n",
              "            background-color:  #160f3b;\n",
              "            color:  #f1f1f1;\n",
              "        }#T_2b1436b0_320a_11ec_8f4d_0242ac1c0002row0_col9,#T_2b1436b0_320a_11ec_8f4d_0242ac1c0002row5_col0{\n",
              "            background-color:  #5f187f;\n",
              "            color:  #f1f1f1;\n",
              "        }#T_2b1436b0_320a_11ec_8f4d_0242ac1c0002row1_col0{\n",
              "            background-color:  #e55064;\n",
              "            color:  #000000;\n",
              "        }#T_2b1436b0_320a_11ec_8f4d_0242ac1c0002row1_col2{\n",
              "            background-color:  #29115a;\n",
              "            color:  #f1f1f1;\n",
              "        }#T_2b1436b0_320a_11ec_8f4d_0242ac1c0002row1_col3{\n",
              "            background-color:  #f9785d;\n",
              "            color:  #000000;\n",
              "        }#T_2b1436b0_320a_11ec_8f4d_0242ac1c0002row1_col4{\n",
              "            background-color:  #3d0f71;\n",
              "            color:  #f1f1f1;\n",
              "        }#T_2b1436b0_320a_11ec_8f4d_0242ac1c0002row1_col5{\n",
              "            background-color:  #b5367a;\n",
              "            color:  #f1f1f1;\n",
              "        }#T_2b1436b0_320a_11ec_8f4d_0242ac1c0002row1_col6{\n",
              "            background-color:  #400f74;\n",
              "            color:  #f1f1f1;\n",
              "        }#T_2b1436b0_320a_11ec_8f4d_0242ac1c0002row1_col7{\n",
              "            background-color:  #fc8e64;\n",
              "            color:  #000000;\n",
              "        }#T_2b1436b0_320a_11ec_8f4d_0242ac1c0002row1_col8{\n",
              "            background-color:  #c53c74;\n",
              "            color:  #f1f1f1;\n",
              "        }#T_2b1436b0_320a_11ec_8f4d_0242ac1c0002row1_col9{\n",
              "            background-color:  #932b80;\n",
              "            color:  #f1f1f1;\n",
              "        }#T_2b1436b0_320a_11ec_8f4d_0242ac1c0002row2_col0,#T_2b1436b0_320a_11ec_8f4d_0242ac1c0002row3_col7,#T_2b1436b0_320a_11ec_8f4d_0242ac1c0002row7_col3{\n",
              "            background-color:  #ee5b5e;\n",
              "            color:  #000000;\n",
              "        }#T_2b1436b0_320a_11ec_8f4d_0242ac1c0002row2_col1,#T_2b1436b0_320a_11ec_8f4d_0242ac1c0002row4_col1,#T_2b1436b0_320a_11ec_8f4d_0242ac1c0002row7_col4{\n",
              "            background-color:  #08071e;\n",
              "            color:  #f1f1f1;\n",
              "        }#T_2b1436b0_320a_11ec_8f4d_0242ac1c0002row2_col4,#T_2b1436b0_320a_11ec_8f4d_0242ac1c0002row9_col8{\n",
              "            background-color:  #ab337c;\n",
              "            color:  #f1f1f1;\n",
              "        }#T_2b1436b0_320a_11ec_8f4d_0242ac1c0002row2_col5{\n",
              "            background-color:  #0d0a29;\n",
              "            color:  #f1f1f1;\n",
              "        }#T_2b1436b0_320a_11ec_8f4d_0242ac1c0002row2_col6{\n",
              "            background-color:  #802582;\n",
              "            color:  #f1f1f1;\n",
              "        }#T_2b1436b0_320a_11ec_8f4d_0242ac1c0002row2_col7,#T_2b1436b0_320a_11ec_8f4d_0242ac1c0002row7_col2{\n",
              "            background-color:  #792282;\n",
              "            color:  #f1f1f1;\n",
              "        }#T_2b1436b0_320a_11ec_8f4d_0242ac1c0002row2_col8{\n",
              "            background-color:  #180f3d;\n",
              "            color:  #f1f1f1;\n",
              "        }#T_2b1436b0_320a_11ec_8f4d_0242ac1c0002row3_col0,#T_2b1436b0_320a_11ec_8f4d_0242ac1c0002row3_col1{\n",
              "            background-color:  #f4695c;\n",
              "            color:  #000000;\n",
              "        }#T_2b1436b0_320a_11ec_8f4d_0242ac1c0002row3_col4{\n",
              "            background-color:  #4c117a;\n",
              "            color:  #f1f1f1;\n",
              "        }#T_2b1436b0_320a_11ec_8f4d_0242ac1c0002row3_col5{\n",
              "            background-color:  #010005;\n",
              "            color:  #f1f1f1;\n",
              "        }#T_2b1436b0_320a_11ec_8f4d_0242ac1c0002row3_col6{\n",
              "            background-color:  #221150;\n",
              "            color:  #f1f1f1;\n",
              "        }#T_2b1436b0_320a_11ec_8f4d_0242ac1c0002row3_col8{\n",
              "            background-color:  #cc3f71;\n",
              "            color:  #f1f1f1;\n",
              "        }#T_2b1436b0_320a_11ec_8f4d_0242ac1c0002row3_col9{\n",
              "            background-color:  #de4968;\n",
              "            color:  #000000;\n",
              "        }#T_2b1436b0_320a_11ec_8f4d_0242ac1c0002row4_col0{\n",
              "            background-color:  #a6317d;\n",
              "            color:  #f1f1f1;\n",
              "        }#T_2b1436b0_320a_11ec_8f4d_0242ac1c0002row4_col2{\n",
              "            background-color:  #9e2f7f;\n",
              "            color:  #f1f1f1;\n",
              "        }#T_2b1436b0_320a_11ec_8f4d_0242ac1c0002row4_col3{\n",
              "            background-color:  #390f6e;\n",
              "            color:  #f1f1f1;\n",
              "        }#T_2b1436b0_320a_11ec_8f4d_0242ac1c0002row4_col5{\n",
              "            background-color:  #150e38;\n",
              "            color:  #f1f1f1;\n",
              "        }#T_2b1436b0_320a_11ec_8f4d_0242ac1c0002row4_col6{\n",
              "            background-color:  #732081;\n",
              "            color:  #f1f1f1;\n",
              "        }#T_2b1436b0_320a_11ec_8f4d_0242ac1c0002row4_col9,#T_2b1436b0_320a_11ec_8f4d_0242ac1c0002row7_col6{\n",
              "            background-color:  #21114e;\n",
              "            color:  #f1f1f1;\n",
              "        }#T_2b1436b0_320a_11ec_8f4d_0242ac1c0002row5_col1{\n",
              "            background-color:  #ca3e72;\n",
              "            color:  #f1f1f1;\n",
              "        }#T_2b1436b0_320a_11ec_8f4d_0242ac1c0002row5_col2{\n",
              "            background-color:  #51127c;\n",
              "            color:  #f1f1f1;\n",
              "        }#T_2b1436b0_320a_11ec_8f4d_0242ac1c0002row5_col3{\n",
              "            background-color:  #38106c;\n",
              "            color:  #f1f1f1;\n",
              "        }#T_2b1436b0_320a_11ec_8f4d_0242ac1c0002row5_col4{\n",
              "            background-color:  #6a1c81;\n",
              "            color:  #f1f1f1;\n",
              "        }#T_2b1436b0_320a_11ec_8f4d_0242ac1c0002row5_col6,#T_2b1436b0_320a_11ec_8f4d_0242ac1c0002row9_col1{\n",
              "            background-color:  #8e2a81;\n",
              "            color:  #f1f1f1;\n",
              "        }#T_2b1436b0_320a_11ec_8f4d_0242ac1c0002row5_col7,#T_2b1436b0_320a_11ec_8f4d_0242ac1c0002row9_col7{\n",
              "            background-color:  #e44f64;\n",
              "            color:  #000000;\n",
              "        }#T_2b1436b0_320a_11ec_8f4d_0242ac1c0002row5_col8{\n",
              "            background-color:  #ba3878;\n",
              "            color:  #f1f1f1;\n",
              "        }#T_2b1436b0_320a_11ec_8f4d_0242ac1c0002row5_col9{\n",
              "            background-color:  #762181;\n",
              "            color:  #f1f1f1;\n",
              "        }#T_2b1436b0_320a_11ec_8f4d_0242ac1c0002row6_col2{\n",
              "            background-color:  #5d177f;\n",
              "            color:  #f1f1f1;\n",
              "        }#T_2b1436b0_320a_11ec_8f4d_0242ac1c0002row6_col3{\n",
              "            background-color:  #03030f;\n",
              "            color:  #f1f1f1;\n",
              "        }#T_2b1436b0_320a_11ec_8f4d_0242ac1c0002row6_col4{\n",
              "            background-color:  #601880;\n",
              "            color:  #f1f1f1;\n",
              "        }#T_2b1436b0_320a_11ec_8f4d_0242ac1c0002row6_col5,#T_2b1436b0_320a_11ec_8f4d_0242ac1c0002row8_col0{\n",
              "            background-color:  #2c115f;\n",
              "            color:  #f1f1f1;\n",
              "        }#T_2b1436b0_320a_11ec_8f4d_0242ac1c0002row6_col7{\n",
              "            background-color:  #020109;\n",
              "            color:  #f1f1f1;\n",
              "        }#T_2b1436b0_320a_11ec_8f4d_0242ac1c0002row6_col8,#T_2b1436b0_320a_11ec_8f4d_0242ac1c0002row7_col8{\n",
              "            background-color:  #e34e65;\n",
              "            color:  #000000;\n",
              "        }#T_2b1436b0_320a_11ec_8f4d_0242ac1c0002row6_col9{\n",
              "            background-color:  #02020b;\n",
              "            color:  #f1f1f1;\n",
              "        }#T_2b1436b0_320a_11ec_8f4d_0242ac1c0002row7_col0{\n",
              "            background-color:  #f66e5c;\n",
              "            color:  #000000;\n",
              "        }#T_2b1436b0_320a_11ec_8f4d_0242ac1c0002row7_col1{\n",
              "            background-color:  #fa815f;\n",
              "            color:  #000000;\n",
              "        }#T_2b1436b0_320a_11ec_8f4d_0242ac1c0002row7_col5{\n",
              "            background-color:  #c23b75;\n",
              "            color:  #f1f1f1;\n",
              "        }#T_2b1436b0_320a_11ec_8f4d_0242ac1c0002row7_col9{\n",
              "            background-color:  #d6456c;\n",
              "            color:  #f1f1f1;\n",
              "        }#T_2b1436b0_320a_11ec_8f4d_0242ac1c0002row8_col1{\n",
              "            background-color:  #a1307e;\n",
              "            color:  #f1f1f1;\n",
              "        }#T_2b1436b0_320a_11ec_8f4d_0242ac1c0002row8_col2{\n",
              "            background-color:  #090720;\n",
              "            color:  #f1f1f1;\n",
              "        }#T_2b1436b0_320a_11ec_8f4d_0242ac1c0002row8_col3{\n",
              "            background-color:  #c03a76;\n",
              "            color:  #f1f1f1;\n",
              "        }#T_2b1436b0_320a_11ec_8f4d_0242ac1c0002row8_col5{\n",
              "            background-color:  #7b2382;\n",
              "            color:  #f1f1f1;\n",
              "        }#T_2b1436b0_320a_11ec_8f4d_0242ac1c0002row8_col7{\n",
              "            background-color:  #db476a;\n",
              "            color:  #000000;\n",
              "        }#T_2b1436b0_320a_11ec_8f4d_0242ac1c0002row8_col9{\n",
              "            background-color:  #862781;\n",
              "            color:  #f1f1f1;\n",
              "        }#T_2b1436b0_320a_11ec_8f4d_0242ac1c0002row9_col0{\n",
              "            background-color:  #992d80;\n",
              "            color:  #f1f1f1;\n",
              "        }#T_2b1436b0_320a_11ec_8f4d_0242ac1c0002row9_col2{\n",
              "            background-color:  #120d31;\n",
              "            color:  #f1f1f1;\n",
              "        }#T_2b1436b0_320a_11ec_8f4d_0242ac1c0002row9_col3{\n",
              "            background-color:  #ea5661;\n",
              "            color:  #000000;\n",
              "        }#T_2b1436b0_320a_11ec_8f4d_0242ac1c0002row9_col4{\n",
              "            background-color:  #56147d;\n",
              "            color:  #f1f1f1;\n",
              "        }#T_2b1436b0_320a_11ec_8f4d_0242ac1c0002row9_col5{\n",
              "            background-color:  #57157e;\n",
              "            color:  #f1f1f1;\n",
              "        }#T_2b1436b0_320a_11ec_8f4d_0242ac1c0002row9_col6{\n",
              "            background-color:  #420f75;\n",
              "            color:  #f1f1f1;\n",
              "        }</style><table id=\"T_2b1436b0_320a_11ec_8f4d_0242ac1c0002\" ><thead>    <tr>        <th class=\"blank level0\" ></th>        <th class=\"col_heading level0 col0\" >0</th>        <th class=\"col_heading level0 col1\" >1</th>        <th class=\"col_heading level0 col2\" >2</th>        <th class=\"col_heading level0 col3\" >3</th>        <th class=\"col_heading level0 col4\" >4</th>        <th class=\"col_heading level0 col5\" >5</th>        <th class=\"col_heading level0 col6\" >6</th>        <th class=\"col_heading level0 col7\" >7</th>        <th class=\"col_heading level0 col8\" >8</th>        <th class=\"col_heading level0 col9\" >9</th>    </tr></thead><tbody>\n",
              "                <tr>\n",
              "                        <th id=\"T_2b1436b0_320a_11ec_8f4d_0242ac1c0002level0_row0\" class=\"row_heading level0 row0\" >0</th>\n",
              "                        <td id=\"T_2b1436b0_320a_11ec_8f4d_0242ac1c0002row0_col0\" class=\"data row0 col0\" >1.000000</td>\n",
              "                        <td id=\"T_2b1436b0_320a_11ec_8f4d_0242ac1c0002row0_col1\" class=\"data row0 col1\" >0.347533</td>\n",
              "                        <td id=\"T_2b1436b0_320a_11ec_8f4d_0242ac1c0002row0_col2\" class=\"data row0 col2\" >0.398948</td>\n",
              "                        <td id=\"T_2b1436b0_320a_11ec_8f4d_0242ac1c0002row0_col3\" class=\"data row0 col3\" >0.455743</td>\n",
              "                        <td id=\"T_2b1436b0_320a_11ec_8f4d_0242ac1c0002row0_col4\" class=\"data row0 col4\" >0.072914</td>\n",
              "                        <td id=\"T_2b1436b0_320a_11ec_8f4d_0242ac1c0002row0_col5\" class=\"data row0 col5\" >-0.233402</td>\n",
              "                        <td id=\"T_2b1436b0_320a_11ec_8f4d_0242ac1c0002row0_col6\" class=\"data row0 col6\" >-0.731222</td>\n",
              "                        <td id=\"T_2b1436b0_320a_11ec_8f4d_0242ac1c0002row0_col7\" class=\"data row0 col7\" >0.477978</td>\n",
              "                        <td id=\"T_2b1436b0_320a_11ec_8f4d_0242ac1c0002row0_col8\" class=\"data row0 col8\" >-0.442621</td>\n",
              "                        <td id=\"T_2b1436b0_320a_11ec_8f4d_0242ac1c0002row0_col9\" class=\"data row0 col9\" >0.015185</td>\n",
              "            </tr>\n",
              "            <tr>\n",
              "                        <th id=\"T_2b1436b0_320a_11ec_8f4d_0242ac1c0002level0_row1\" class=\"row_heading level0 row1\" >1</th>\n",
              "                        <td id=\"T_2b1436b0_320a_11ec_8f4d_0242ac1c0002row1_col0\" class=\"data row1 col0\" >0.347533</td>\n",
              "                        <td id=\"T_2b1436b0_320a_11ec_8f4d_0242ac1c0002row1_col1\" class=\"data row1 col1\" >1.000000</td>\n",
              "                        <td id=\"T_2b1436b0_320a_11ec_8f4d_0242ac1c0002row1_col2\" class=\"data row1 col2\" >-0.284056</td>\n",
              "                        <td id=\"T_2b1436b0_320a_11ec_8f4d_0242ac1c0002row1_col3\" class=\"data row1 col3\" >0.571003</td>\n",
              "                        <td id=\"T_2b1436b0_320a_11ec_8f4d_0242ac1c0002row1_col4\" class=\"data row1 col4\" >-0.285483</td>\n",
              "                        <td id=\"T_2b1436b0_320a_11ec_8f4d_0242ac1c0002row1_col5\" class=\"data row1 col5\" >0.382480</td>\n",
              "                        <td id=\"T_2b1436b0_320a_11ec_8f4d_0242ac1c0002row1_col6\" class=\"data row1 col6\" >-0.362842</td>\n",
              "                        <td id=\"T_2b1436b0_320a_11ec_8f4d_0242ac1c0002row1_col7\" class=\"data row1 col7\" >0.642578</td>\n",
              "                        <td id=\"T_2b1436b0_320a_11ec_8f4d_0242ac1c0002row1_col8\" class=\"data row1 col8\" >0.252556</td>\n",
              "                        <td id=\"T_2b1436b0_320a_11ec_8f4d_0242ac1c0002row1_col9\" class=\"data row1 col9\" >0.190047</td>\n",
              "            </tr>\n",
              "            <tr>\n",
              "                        <th id=\"T_2b1436b0_320a_11ec_8f4d_0242ac1c0002level0_row2\" class=\"row_heading level0 row2\" >2</th>\n",
              "                        <td id=\"T_2b1436b0_320a_11ec_8f4d_0242ac1c0002row2_col0\" class=\"data row2 col0\" >0.398948</td>\n",
              "                        <td id=\"T_2b1436b0_320a_11ec_8f4d_0242ac1c0002row2_col1\" class=\"data row2 col1\" >-0.284056</td>\n",
              "                        <td id=\"T_2b1436b0_320a_11ec_8f4d_0242ac1c0002row2_col2\" class=\"data row2 col2\" >1.000000</td>\n",
              "                        <td id=\"T_2b1436b0_320a_11ec_8f4d_0242ac1c0002row2_col3\" class=\"data row2 col3\" >-0.523649</td>\n",
              "                        <td id=\"T_2b1436b0_320a_11ec_8f4d_0242ac1c0002row2_col4\" class=\"data row2 col4\" >0.152937</td>\n",
              "                        <td id=\"T_2b1436b0_320a_11ec_8f4d_0242ac1c0002row2_col5\" class=\"data row2 col5\" >-0.139176</td>\n",
              "                        <td id=\"T_2b1436b0_320a_11ec_8f4d_0242ac1c0002row2_col6\" class=\"data row2 col6\" >-0.092895</td>\n",
              "                        <td id=\"T_2b1436b0_320a_11ec_8f4d_0242ac1c0002row2_col7\" class=\"data row2 col7\" >0.016266</td>\n",
              "                        <td id=\"T_2b1436b0_320a_11ec_8f4d_0242ac1c0002row2_col8\" class=\"data row2 col8\" >-0.434016</td>\n",
              "                        <td id=\"T_2b1436b0_320a_11ec_8f4d_0242ac1c0002row2_col9\" class=\"data row2 col9\" >-0.383585</td>\n",
              "            </tr>\n",
              "            <tr>\n",
              "                        <th id=\"T_2b1436b0_320a_11ec_8f4d_0242ac1c0002level0_row3\" class=\"row_heading level0 row3\" >3</th>\n",
              "                        <td id=\"T_2b1436b0_320a_11ec_8f4d_0242ac1c0002row3_col0\" class=\"data row3 col0\" >0.455743</td>\n",
              "                        <td id=\"T_2b1436b0_320a_11ec_8f4d_0242ac1c0002row3_col1\" class=\"data row3 col1\" >0.571003</td>\n",
              "                        <td id=\"T_2b1436b0_320a_11ec_8f4d_0242ac1c0002row3_col2\" class=\"data row3 col2\" >-0.523649</td>\n",
              "                        <td id=\"T_2b1436b0_320a_11ec_8f4d_0242ac1c0002row3_col3\" class=\"data row3 col3\" >1.000000</td>\n",
              "                        <td id=\"T_2b1436b0_320a_11ec_8f4d_0242ac1c0002row3_col4\" class=\"data row3 col4\" >-0.225343</td>\n",
              "                        <td id=\"T_2b1436b0_320a_11ec_8f4d_0242ac1c0002row3_col5\" class=\"data row3 col5\" >-0.227577</td>\n",
              "                        <td id=\"T_2b1436b0_320a_11ec_8f4d_0242ac1c0002row3_col6\" class=\"data row3 col6\" >-0.481548</td>\n",
              "                        <td id=\"T_2b1436b0_320a_11ec_8f4d_0242ac1c0002row3_col7\" class=\"data row3 col7\" >0.473286</td>\n",
              "                        <td id=\"T_2b1436b0_320a_11ec_8f4d_0242ac1c0002row3_col8\" class=\"data row3 col8\" >0.279258</td>\n",
              "                        <td id=\"T_2b1436b0_320a_11ec_8f4d_0242ac1c0002row3_col9\" class=\"data row3 col9\" >0.446650</td>\n",
              "            </tr>\n",
              "            <tr>\n",
              "                        <th id=\"T_2b1436b0_320a_11ec_8f4d_0242ac1c0002level0_row4\" class=\"row_heading level0 row4\" >4</th>\n",
              "                        <td id=\"T_2b1436b0_320a_11ec_8f4d_0242ac1c0002row4_col0\" class=\"data row4 col0\" >0.072914</td>\n",
              "                        <td id=\"T_2b1436b0_320a_11ec_8f4d_0242ac1c0002row4_col1\" class=\"data row4 col1\" >-0.285483</td>\n",
              "                        <td id=\"T_2b1436b0_320a_11ec_8f4d_0242ac1c0002row4_col2\" class=\"data row4 col2\" >0.152937</td>\n",
              "                        <td id=\"T_2b1436b0_320a_11ec_8f4d_0242ac1c0002row4_col3\" class=\"data row4 col3\" >-0.225343</td>\n",
              "                        <td id=\"T_2b1436b0_320a_11ec_8f4d_0242ac1c0002row4_col4\" class=\"data row4 col4\" >1.000000</td>\n",
              "                        <td id=\"T_2b1436b0_320a_11ec_8f4d_0242ac1c0002row4_col5\" class=\"data row4 col5\" >-0.104438</td>\n",
              "                        <td id=\"T_2b1436b0_320a_11ec_8f4d_0242ac1c0002row4_col6\" class=\"data row4 col6\" >-0.147477</td>\n",
              "                        <td id=\"T_2b1436b0_320a_11ec_8f4d_0242ac1c0002row4_col7\" class=\"data row4 col7\" >-0.523283</td>\n",
              "                        <td id=\"T_2b1436b0_320a_11ec_8f4d_0242ac1c0002row4_col8\" class=\"data row4 col8\" >-0.614603</td>\n",
              "                        <td id=\"T_2b1436b0_320a_11ec_8f4d_0242ac1c0002row4_col9\" class=\"data row4 col9\" >-0.189916</td>\n",
              "            </tr>\n",
              "            <tr>\n",
              "                        <th id=\"T_2b1436b0_320a_11ec_8f4d_0242ac1c0002level0_row5\" class=\"row_heading level0 row5\" >5</th>\n",
              "                        <td id=\"T_2b1436b0_320a_11ec_8f4d_0242ac1c0002row5_col0\" class=\"data row5 col0\" >-0.233402</td>\n",
              "                        <td id=\"T_2b1436b0_320a_11ec_8f4d_0242ac1c0002row5_col1\" class=\"data row5 col1\" >0.382480</td>\n",
              "                        <td id=\"T_2b1436b0_320a_11ec_8f4d_0242ac1c0002row5_col2\" class=\"data row5 col2\" >-0.139176</td>\n",
              "                        <td id=\"T_2b1436b0_320a_11ec_8f4d_0242ac1c0002row5_col3\" class=\"data row5 col3\" >-0.227577</td>\n",
              "                        <td id=\"T_2b1436b0_320a_11ec_8f4d_0242ac1c0002row5_col4\" class=\"data row5 col4\" >-0.104438</td>\n",
              "                        <td id=\"T_2b1436b0_320a_11ec_8f4d_0242ac1c0002row5_col5\" class=\"data row5 col5\" >1.000000</td>\n",
              "                        <td id=\"T_2b1436b0_320a_11ec_8f4d_0242ac1c0002row5_col6\" class=\"data row5 col6\" >-0.030252</td>\n",
              "                        <td id=\"T_2b1436b0_320a_11ec_8f4d_0242ac1c0002row5_col7\" class=\"data row5 col7\" >0.417640</td>\n",
              "                        <td id=\"T_2b1436b0_320a_11ec_8f4d_0242ac1c0002row5_col8\" class=\"data row5 col8\" >0.205851</td>\n",
              "                        <td id=\"T_2b1436b0_320a_11ec_8f4d_0242ac1c0002row5_col9\" class=\"data row5 col9\" >0.095084</td>\n",
              "            </tr>\n",
              "            <tr>\n",
              "                        <th id=\"T_2b1436b0_320a_11ec_8f4d_0242ac1c0002level0_row6\" class=\"row_heading level0 row6\" >6</th>\n",
              "                        <td id=\"T_2b1436b0_320a_11ec_8f4d_0242ac1c0002row6_col0\" class=\"data row6 col0\" >-0.731222</td>\n",
              "                        <td id=\"T_2b1436b0_320a_11ec_8f4d_0242ac1c0002row6_col1\" class=\"data row6 col1\" >-0.362842</td>\n",
              "                        <td id=\"T_2b1436b0_320a_11ec_8f4d_0242ac1c0002row6_col2\" class=\"data row6 col2\" >-0.092895</td>\n",
              "                        <td id=\"T_2b1436b0_320a_11ec_8f4d_0242ac1c0002row6_col3\" class=\"data row6 col3\" >-0.481548</td>\n",
              "                        <td id=\"T_2b1436b0_320a_11ec_8f4d_0242ac1c0002row6_col4\" class=\"data row6 col4\" >-0.147477</td>\n",
              "                        <td id=\"T_2b1436b0_320a_11ec_8f4d_0242ac1c0002row6_col5\" class=\"data row6 col5\" >-0.030252</td>\n",
              "                        <td id=\"T_2b1436b0_320a_11ec_8f4d_0242ac1c0002row6_col6\" class=\"data row6 col6\" >1.000000</td>\n",
              "                        <td id=\"T_2b1436b0_320a_11ec_8f4d_0242ac1c0002row6_col7\" class=\"data row6 col7\" >-0.494440</td>\n",
              "                        <td id=\"T_2b1436b0_320a_11ec_8f4d_0242ac1c0002row6_col8\" class=\"data row6 col8\" >0.381407</td>\n",
              "                        <td id=\"T_2b1436b0_320a_11ec_8f4d_0242ac1c0002row6_col9\" class=\"data row6 col9\" >-0.353652</td>\n",
              "            </tr>\n",
              "            <tr>\n",
              "                        <th id=\"T_2b1436b0_320a_11ec_8f4d_0242ac1c0002level0_row7\" class=\"row_heading level0 row7\" >7</th>\n",
              "                        <td id=\"T_2b1436b0_320a_11ec_8f4d_0242ac1c0002row7_col0\" class=\"data row7 col0\" >0.477978</td>\n",
              "                        <td id=\"T_2b1436b0_320a_11ec_8f4d_0242ac1c0002row7_col1\" class=\"data row7 col1\" >0.642578</td>\n",
              "                        <td id=\"T_2b1436b0_320a_11ec_8f4d_0242ac1c0002row7_col2\" class=\"data row7 col2\" >0.016266</td>\n",
              "                        <td id=\"T_2b1436b0_320a_11ec_8f4d_0242ac1c0002row7_col3\" class=\"data row7 col3\" >0.473286</td>\n",
              "                        <td id=\"T_2b1436b0_320a_11ec_8f4d_0242ac1c0002row7_col4\" class=\"data row7 col4\" >-0.523283</td>\n",
              "                        <td id=\"T_2b1436b0_320a_11ec_8f4d_0242ac1c0002row7_col5\" class=\"data row7 col5\" >0.417640</td>\n",
              "                        <td id=\"T_2b1436b0_320a_11ec_8f4d_0242ac1c0002row7_col6\" class=\"data row7 col6\" >-0.494440</td>\n",
              "                        <td id=\"T_2b1436b0_320a_11ec_8f4d_0242ac1c0002row7_col7\" class=\"data row7 col7\" >1.000000</td>\n",
              "                        <td id=\"T_2b1436b0_320a_11ec_8f4d_0242ac1c0002row7_col8\" class=\"data row7 col8\" >0.375873</td>\n",
              "                        <td id=\"T_2b1436b0_320a_11ec_8f4d_0242ac1c0002row7_col9\" class=\"data row7 col9\" >0.417863</td>\n",
              "            </tr>\n",
              "            <tr>\n",
              "                        <th id=\"T_2b1436b0_320a_11ec_8f4d_0242ac1c0002level0_row8\" class=\"row_heading level0 row8\" >8</th>\n",
              "                        <td id=\"T_2b1436b0_320a_11ec_8f4d_0242ac1c0002row8_col0\" class=\"data row8 col0\" >-0.442621</td>\n",
              "                        <td id=\"T_2b1436b0_320a_11ec_8f4d_0242ac1c0002row8_col1\" class=\"data row8 col1\" >0.252556</td>\n",
              "                        <td id=\"T_2b1436b0_320a_11ec_8f4d_0242ac1c0002row8_col2\" class=\"data row8 col2\" >-0.434016</td>\n",
              "                        <td id=\"T_2b1436b0_320a_11ec_8f4d_0242ac1c0002row8_col3\" class=\"data row8 col3\" >0.279258</td>\n",
              "                        <td id=\"T_2b1436b0_320a_11ec_8f4d_0242ac1c0002row8_col4\" class=\"data row8 col4\" >-0.614603</td>\n",
              "                        <td id=\"T_2b1436b0_320a_11ec_8f4d_0242ac1c0002row8_col5\" class=\"data row8 col5\" >0.205851</td>\n",
              "                        <td id=\"T_2b1436b0_320a_11ec_8f4d_0242ac1c0002row8_col6\" class=\"data row8 col6\" >0.381407</td>\n",
              "                        <td id=\"T_2b1436b0_320a_11ec_8f4d_0242ac1c0002row8_col7\" class=\"data row8 col7\" >0.375873</td>\n",
              "                        <td id=\"T_2b1436b0_320a_11ec_8f4d_0242ac1c0002row8_col8\" class=\"data row8 col8\" >1.000000</td>\n",
              "                        <td id=\"T_2b1436b0_320a_11ec_8f4d_0242ac1c0002row8_col9\" class=\"data row8 col9\" >0.150421</td>\n",
              "            </tr>\n",
              "            <tr>\n",
              "                        <th id=\"T_2b1436b0_320a_11ec_8f4d_0242ac1c0002level0_row9\" class=\"row_heading level0 row9\" >9</th>\n",
              "                        <td id=\"T_2b1436b0_320a_11ec_8f4d_0242ac1c0002row9_col0\" class=\"data row9 col0\" >0.015185</td>\n",
              "                        <td id=\"T_2b1436b0_320a_11ec_8f4d_0242ac1c0002row9_col1\" class=\"data row9 col1\" >0.190047</td>\n",
              "                        <td id=\"T_2b1436b0_320a_11ec_8f4d_0242ac1c0002row9_col2\" class=\"data row9 col2\" >-0.383585</td>\n",
              "                        <td id=\"T_2b1436b0_320a_11ec_8f4d_0242ac1c0002row9_col3\" class=\"data row9 col3\" >0.446650</td>\n",
              "                        <td id=\"T_2b1436b0_320a_11ec_8f4d_0242ac1c0002row9_col4\" class=\"data row9 col4\" >-0.189916</td>\n",
              "                        <td id=\"T_2b1436b0_320a_11ec_8f4d_0242ac1c0002row9_col5\" class=\"data row9 col5\" >0.095084</td>\n",
              "                        <td id=\"T_2b1436b0_320a_11ec_8f4d_0242ac1c0002row9_col6\" class=\"data row9 col6\" >-0.353652</td>\n",
              "                        <td id=\"T_2b1436b0_320a_11ec_8f4d_0242ac1c0002row9_col7\" class=\"data row9 col7\" >0.417863</td>\n",
              "                        <td id=\"T_2b1436b0_320a_11ec_8f4d_0242ac1c0002row9_col8\" class=\"data row9 col8\" >0.150421</td>\n",
              "                        <td id=\"T_2b1436b0_320a_11ec_8f4d_0242ac1c0002row9_col9\" class=\"data row9 col9\" >1.000000</td>\n",
              "            </tr>\n",
              "    </tbody></table>"
            ],
            "text/plain": [
              "<pandas.io.formats.style.Styler at 0x7fb0110c5a50>"
            ]
          },
          "metadata": {},
          "execution_count": 65
        }
      ]
    },
    {
      "cell_type": "markdown",
      "metadata": {
        "id": "tNISeYvwse4o"
      },
      "source": [
        "# ready to split"
      ]
    },
    {
      "cell_type": "code",
      "metadata": {
        "id": "FNM3Ps56se4o"
      },
      "source": [
        "xtrain, xtest, ytrain, ytest = train_test_split(x,y,test_size=0.3,random_state=0)"
      ],
      "execution_count": null,
      "outputs": []
    },
    {
      "cell_type": "markdown",
      "metadata": {
        "id": "BU7PZ9Wose4o"
      },
      "source": [
        "# Algorithm"
      ]
    },
    {
      "cell_type": "code",
      "metadata": {
        "colab": {
          "base_uri": "https://localhost:8080/"
        },
        "id": "AK0A6iwVse4p",
        "outputId": "021ca595-c095-453a-eac7-36cee0a42e45"
      },
      "source": [
        "from sklearn.ensemble import GradientBoostingClassifier\n",
        "\n",
        "model = GradientBoostingClassifier()\n",
        "model.fit(xtrain,ytrain)\n",
        "model.score(xtest,ytest)*100"
      ],
      "execution_count": null,
      "outputs": [
        {
          "output_type": "execute_result",
          "data": {
            "text/plain": [
              "92.78514459442358"
            ]
          },
          "metadata": {},
          "execution_count": 67
        }
      ]
    },
    {
      "cell_type": "code",
      "metadata": {
        "colab": {
          "base_uri": "https://localhost:8080/"
        },
        "id": "90XTbfKWse4p",
        "outputId": "4e59f471-4e66-49ad-be00-eb15266fca1e"
      },
      "source": [
        "ypred = model.predict(xtest)\n",
        "ypred"
      ],
      "execution_count": null,
      "outputs": [
        {
          "output_type": "execute_result",
          "data": {
            "text/plain": [
              "array([2, 2, 2, ..., 2, 2, 2])"
            ]
          },
          "metadata": {},
          "execution_count": 69
        }
      ]
    },
    {
      "cell_type": "markdown",
      "metadata": {
        "id": "Gf5Lz8f5se4q"
      },
      "source": [
        "# Confusion Metrics"
      ]
    },
    {
      "cell_type": "code",
      "metadata": {
        "id": "crxegsEKxIbj",
        "colab": {
          "base_uri": "https://localhost:8080/"
        },
        "outputId": "a716e371-e7c2-4e12-9187-512efb217fa1"
      },
      "source": [
        "from sklearn.metrics import classification_report,confusion_matrix,accuracy_score\n",
        "\n",
        "cm=confusion_matrix(ytest,ypred)\n",
        "print(accuracy_score(ytest,ypred))"
      ],
      "execution_count": null,
      "outputs": [
        {
          "output_type": "stream",
          "name": "stdout",
          "text": [
            "0.9278514459442359\n"
          ]
        }
      ]
    },
    {
      "cell_type": "code",
      "metadata": {
        "colab": {
          "base_uri": "https://localhost:8080/"
        },
        "id": "nheN2NXZse4q",
        "outputId": "05581c55-c61a-47b4-825d-e4af5bd5418f"
      },
      "source": [
        "import seaborn as sns\n",
        "import matplotlib.pyplot as plt     \n",
        "\n",
        "ax= plt.subplot()\n",
        "sns.heatmap(cm,annot=True,fmt='d',ax=ax)\n",
        "\n",
        "ax.set_xlabel('Predicted labels');\n",
        "ax.set_ylabel('True labels');\n",
        "ax.set_title('Confusion Matrix');\n",
        "ax.xaxis.set_ticklabels(['other', 'positive','negative']);\n",
        "ax.yaxis.set_ticklabels(['other', 'nagative','positive']);"
      ],
      "execution_count": null,
      "outputs": [
        {
          "output_type": "display_data",
          "data": {
            "image/png": "[encoded data removed]",
            "text/plain": [
              "<Figure size 432x288 with 2 Axes>"
            ]
          },
          "metadata": {
            "needs_background": "light"
          }
        }
      ]
    },
    {
      "cell_type": "code",
      "metadata": {
        "colab": {
          "base_uri": "https://localhost:8080/"
        },
        "id": "FAS0rtqNse4q",
        "outputId": "762bcf59-6b3e-4c8e-9205-b8a72f421185"
      },
      "source": [
        "from sklearn.metrics import classification_report\n",
        "\n",
        "cr=classification_report(ytest,ypred,zero_division=0)\n",
        "print(cr)"
      ],
      "execution_count": null,
      "outputs": [
        {
          "output_type": "stream",
          "name": "stdout",
          "text": [
            "              precision    recall  f1-score   support\n",
            "\n",
            "           0       0.00      0.00      0.00      4736\n",
            "           1       0.58      0.22      0.32     45630\n",
            "           2       0.94      0.99      0.96    605503\n",
            "\n",
            "    accuracy                           0.93    655869\n",
            "   macro avg       0.51      0.40      0.43    655869\n",
            "weighted avg       0.91      0.93      0.91    655869\n",
            "\n"
          ]
        }
      ]
    },
    {
      "cell_type": "code",
      "metadata": {
        "colab": {
          "base_uri": "https://localhost:8080/"
        },
        "id": "qllXBY12P2y9",
        "outputId": "48f2a27c-3fce-44cb-a538-89250e09e7fa"
      },
      "source": [
        "col=sns.color_palette('ch:s=.25,rot=-.25')\n",
        "plt.xlabel('GBC')\n",
        "plt.pie(accuracy_score(ytest,ypred),autopct='%2.2f%%',colors=col,startangle=90,shadow=True)\n",
        "plt.show()"
      ],
      "execution_count": null,
      "outputs": [
        {
          "output_type": "stream",
          "name": "stderr",
          "text": [
            "/usr/local/lib/python3.7/dist-packages/ipykernel_launcher.py:3: MatplotlibDeprecationWarning: Non-1D inputs to pie() are currently squeeze()d, but this behavior is deprecated since 3.1 and will be removed in 3.3; pass a 1D array instead.\n",
            "  This is separate from the ipykernel package so we can avoid doing imports until\n"
          ]
        },
        {
          "output_type": "display_data",
          "data": {
            "image/png": "[encoded data removed]",
            "text/plain": [
              "<Figure size 432x288 with 1 Axes>"
            ]
          },
          "metadata": {}
        }
      ]
    }
  ]
}