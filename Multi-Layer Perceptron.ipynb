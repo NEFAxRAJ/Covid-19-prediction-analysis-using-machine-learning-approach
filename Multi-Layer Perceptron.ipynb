{
  "nbformat": 4,
  "nbformat_minor": 0,
  "metadata": {
    "accelerator": "TPU",
    "colab": {
      "name": "covid1.ipynb",
      "provenance": [],
      "collapsed_sections": []
    },
    "interpreter": {
      "hash": "cc28fe2017aa820ac6129e0c0b1adf0dcd2137e3a6ae9c79c76889a9372e99c9"
    },
    "kernelspec": {
      "display_name": "Python 3 (ipykernel)",
      "language": "python",
      "name": "python3"
    },
    "language_info": {
      "codemirror_mode": {
        "name": "ipython",
        "version": 3
      },
      "file_extension": ".py",
      "mimetype": "text/x-python",
      "name": "python",
      "nbconvert_exporter": "python",
      "pygments_lexer": "ipython3",
      "version": "3.8.8"
    }
  },
  "cells": [
    {
      "cell_type": "markdown",
      "metadata": {
        "id": "6I--tRkJ0qmH"
      },
      "source": [
        "# library imports"
      ]
    },
    {
      "cell_type": "code",
      "metadata": {
        "colab": {
          "base_uri": "https://localhost:8080/"
        },
        "id": "61tqwm2f85Db",
        "outputId": "81c9564a-6b54-46f6-da7c-6d94aff5fe82"
      },
      "source": [
        "import pandas as pd\n",
        "import matplotlib.pyplot as plt\n",
        "import seaborn as sns\n",
        "from sklearn.model_selection import train_test_split\n",
        "import numpy as np\n",
        "from google.colab import drive\n",
        "drive.mount('/content/gd')"
      ],
      "execution_count": null,
      "outputs": [
        {
          "output_type": "stream",
          "name": "stdout",
          "text": [
            "Mounted at /content/gd\n"
          ]
        }
      ]
    },
    {
      "cell_type": "markdown",
      "metadata": {
        "id": "PjRf8zKP0xJY"
      },
      "source": [
        "# data read"
      ]
    },
    {
      "cell_type": "code",
      "metadata": {
        "id": "3AX-vz_d85Dg"
      },
      "source": [
        "df=pd.read_csv('gd/My Drive/SARS-2/data/corona_tested_individuals_ver_0083.english.csv',low_memory=False)"
      ],
      "execution_count": null,
      "outputs": []
    },
    {
      "cell_type": "markdown",
      "metadata": {
        "id": "t3yTod5u09qe"
      },
      "source": [
        "# raw data view"
      ]
    },
    {
      "cell_type": "code",
      "metadata": {
        "colab": {
          "base_uri": "https://localhost:8080/",
          "height": 205
        },
        "id": "ZGatf7oI1CXv",
        "outputId": "4043f41f-a088-467d-897a-b5772f151755"
      },
      "source": [
        "df.head()"
      ],
      "execution_count": null,
      "outputs": [
        {
          "output_type": "execute_result",
          "data": {
            "text/html": [
              "<div>\n",
              "<style scoped>\n",
              "    .dataframe tbody tr th:only-of-type {\n",
              "        vertical-align: middle;\n",
              "    }\n",
              "\n",
              "    .dataframe tbody tr th {\n",
              "        vertical-align: top;\n",
              "    }\n",
              "\n",
              "    .dataframe thead th {\n",
              "        text-align: right;\n",
              "    }\n",
              "</style>\n",
              "<table border=\"1\" class=\"dataframe\">\n",
              "  <thead>\n",
              "    <tr style=\"text-align: right;\">\n",
              "      <th></th>\n",
              "      <th>test_date</th>\n",
              "      <th>cough</th>\n",
              "      <th>fever</th>\n",
              "      <th>sore_throat</th>\n",
              "      <th>shortness_of_breath</th>\n",
              "      <th>head_ache</th>\n",
              "      <th>corona_result</th>\n",
              "      <th>age_60_and_above</th>\n",
              "      <th>gender</th>\n",
              "      <th>test_indication</th>\n",
              "    </tr>\n",
              "  </thead>\n",
              "  <tbody>\n",
              "    <tr>\n",
              "      <th>0</th>\n",
              "      <td>2020-11-12</td>\n",
              "      <td>0</td>\n",
              "      <td>0</td>\n",
              "      <td>0</td>\n",
              "      <td>0</td>\n",
              "      <td>0</td>\n",
              "      <td>negative</td>\n",
              "      <td>No</td>\n",
              "      <td>male</td>\n",
              "      <td>Other</td>\n",
              "    </tr>\n",
              "    <tr>\n",
              "      <th>1</th>\n",
              "      <td>2020-11-12</td>\n",
              "      <td>0</td>\n",
              "      <td>1</td>\n",
              "      <td>0</td>\n",
              "      <td>0</td>\n",
              "      <td>0</td>\n",
              "      <td>negative</td>\n",
              "      <td>No</td>\n",
              "      <td>male</td>\n",
              "      <td>Other</td>\n",
              "    </tr>\n",
              "    <tr>\n",
              "      <th>2</th>\n",
              "      <td>2020-11-12</td>\n",
              "      <td>0</td>\n",
              "      <td>0</td>\n",
              "      <td>0</td>\n",
              "      <td>0</td>\n",
              "      <td>0</td>\n",
              "      <td>negative</td>\n",
              "      <td>Yes</td>\n",
              "      <td>female</td>\n",
              "      <td>Other</td>\n",
              "    </tr>\n",
              "    <tr>\n",
              "      <th>3</th>\n",
              "      <td>2020-11-12</td>\n",
              "      <td>0</td>\n",
              "      <td>0</td>\n",
              "      <td>0</td>\n",
              "      <td>0</td>\n",
              "      <td>0</td>\n",
              "      <td>negative</td>\n",
              "      <td>No</td>\n",
              "      <td>male</td>\n",
              "      <td>Other</td>\n",
              "    </tr>\n",
              "    <tr>\n",
              "      <th>4</th>\n",
              "      <td>2020-11-12</td>\n",
              "      <td>0</td>\n",
              "      <td>1</td>\n",
              "      <td>0</td>\n",
              "      <td>0</td>\n",
              "      <td>0</td>\n",
              "      <td>negative</td>\n",
              "      <td>No</td>\n",
              "      <td>male</td>\n",
              "      <td>Contact with confirmed</td>\n",
              "    </tr>\n",
              "  </tbody>\n",
              "</table>\n",
              "</div>"
            ],
            "text/plain": [
              "    test_date  cough  fever  ...  age_60_and_above  gender         test_indication\n",
              "0  2020-11-12      0      0  ...                No    male                   Other\n",
              "1  2020-11-12      0      1  ...                No    male                   Other\n",
              "2  2020-11-12      0      0  ...               Yes  female                   Other\n",
              "3  2020-11-12      0      0  ...                No    male                   Other\n",
              "4  2020-11-12      0      1  ...                No    male  Contact with confirmed\n",
              "\n",
              "[5 rows x 10 columns]"
            ]
          },
          "metadata": {},
          "execution_count": 3
        }
      ]
    },
    {
      "cell_type": "markdown",
      "metadata": {
        "id": "i88u8Wrx1KR3"
      },
      "source": [
        "# data preprocessing"
      ]
    },
    {
      "cell_type": "code",
      "metadata": {
        "colab": {
          "base_uri": "https://localhost:8080/"
        },
        "id": "AKHao0DH85Dh",
        "outputId": "0b6e172c-f834-4a49-844b-ce5da040f38c"
      },
      "source": [
        "df.shape"
      ],
      "execution_count": null,
      "outputs": [
        {
          "output_type": "execute_result",
          "data": {
            "text/plain": [
              "(2742596, 10)"
            ]
          },
          "metadata": {},
          "execution_count": 4
        }
      ]
    },
    {
      "cell_type": "code",
      "metadata": {
        "colab": {
          "base_uri": "https://localhost:8080/"
        },
        "id": "1WKomP6W85Dj",
        "outputId": "01a81f8f-4fdc-434c-e79f-506a1ecd3c79"
      },
      "source": [
        "df.isna().sum()"
      ],
      "execution_count": null,
      "outputs": [
        {
          "output_type": "execute_result",
          "data": {
            "text/plain": [
              "test_date                   0\n",
              "cough                       0\n",
              "fever                       0\n",
              "sore_throat                 0\n",
              "shortness_of_breath         0\n",
              "head_ache                   0\n",
              "corona_result               0\n",
              "age_60_and_above       547644\n",
              "gender                  92886\n",
              "test_indication             0\n",
              "dtype: int64"
            ]
          },
          "metadata": {},
          "execution_count": 6
        }
      ]
    },
    {
      "cell_type": "code",
      "metadata": {
        "colab": {
          "base_uri": "https://localhost:8080/"
        },
        "id": "LTPnlI7t85Dj",
        "outputId": "2406d7ea-d7eb-4126-a728-5c26aa29772e"
      },
      "source": [
        "df['gender'].replace({'male':0, 'female':1}, inplace=True)\n",
        "df.gender=df.gender.fillna(2)\n",
        "print(df)"
      ],
      "execution_count": null,
      "outputs": [
        {
          "output_type": "stream",
          "name": "stdout",
          "text": [
            "          test_date  cough  ...  gender         test_indication\n",
            "0        2020-11-12      0  ...     0.0                   Other\n",
            "1        2020-11-12      0  ...     0.0                   Other\n",
            "2        2020-11-12      0  ...     1.0                   Other\n",
            "3        2020-11-12      0  ...     0.0                   Other\n",
            "4        2020-11-12      0  ...     0.0  Contact with confirmed\n",
            "...             ...    ...  ...     ...                     ...\n",
            "2742591  2020-03-11      0  ...     1.0                   Other\n",
            "2742592  2020-03-11      0  ...     1.0                   Other\n",
            "2742593  2020-03-11      0  ...     0.0                   Other\n",
            "2742594  2020-03-11      0  ...     1.0                   Other\n",
            "2742595  2020-03-11      0  ...     0.0                   Other\n",
            "\n",
            "[2742596 rows x 10 columns]\n"
          ]
        }
      ]
    },
    {
      "cell_type": "code",
      "metadata": {
        "colab": {
          "base_uri": "https://localhost:8080/"
        },
        "id": "wSnBuvus85Dk",
        "outputId": "623a0168-91eb-48f3-bb12-3a0f0ebe39f4"
      },
      "source": [
        "df['age_60_and_above'].replace({'No':0, 'Yes':1}, inplace=True)\n",
        "df.age_60_and_above=df.age_60_and_above.fillna(2)\n",
        "print(df)"
      ],
      "execution_count": null,
      "outputs": [
        {
          "output_type": "stream",
          "name": "stdout",
          "text": [
            "          test_date  cough  ...  gender         test_indication\n",
            "0        2020-11-12      0  ...     0.0                   Other\n",
            "1        2020-11-12      0  ...     0.0                   Other\n",
            "2        2020-11-12      0  ...     1.0                   Other\n",
            "3        2020-11-12      0  ...     0.0                   Other\n",
            "4        2020-11-12      0  ...     0.0  Contact with confirmed\n",
            "...             ...    ...  ...     ...                     ...\n",
            "2742591  2020-03-11      0  ...     1.0                   Other\n",
            "2742592  2020-03-11      0  ...     1.0                   Other\n",
            "2742593  2020-03-11      0  ...     0.0                   Other\n",
            "2742594  2020-03-11      0  ...     1.0                   Other\n",
            "2742595  2020-03-11      0  ...     0.0                   Other\n",
            "\n",
            "[2742596 rows x 10 columns]\n"
          ]
        }
      ]
    },
    {
      "cell_type": "code",
      "metadata": {
        "colab": {
          "base_uri": "https://localhost:8080/"
        },
        "id": "_LImMfRU85Dl",
        "outputId": "41baef51-e384-4e48-e415-572b25641001"
      },
      "source": [
        "df['test_indication'].replace({'Abroad':0, 'Contact with confirmed':1, 'Other':2}, inplace=True)\n",
        "print(df)"
      ],
      "execution_count": null,
      "outputs": [
        {
          "output_type": "stream",
          "name": "stdout",
          "text": [
            "          test_date  cough  fever  ...  age_60_and_above  gender  test_indication\n",
            "0        2020-11-12      0      0  ...               0.0     0.0                2\n",
            "1        2020-11-12      0      1  ...               0.0     0.0                2\n",
            "2        2020-11-12      0      0  ...               1.0     1.0                2\n",
            "3        2020-11-12      0      0  ...               0.0     0.0                2\n",
            "4        2020-11-12      0      1  ...               0.0     0.0                1\n",
            "...             ...    ...    ...  ...               ...     ...              ...\n",
            "2742591  2020-03-11      0      0  ...               2.0     1.0                2\n",
            "2742592  2020-03-11      0      0  ...               2.0     1.0                2\n",
            "2742593  2020-03-11      0      0  ...               2.0     0.0                2\n",
            "2742594  2020-03-11      0      0  ...               2.0     1.0                2\n",
            "2742595  2020-03-11      0      1  ...               2.0     0.0                2\n",
            "\n",
            "[2742596 rows x 10 columns]\n"
          ]
        }
      ]
    },
    {
      "cell_type": "code",
      "metadata": {
        "id": "GRBUpM6j85Dm"
      },
      "source": [
        "x=df.drop(columns=['corona_result','test_date'])\n",
        "y=df['corona_result']"
      ],
      "execution_count": null,
      "outputs": []
    },
    {
      "cell_type": "markdown",
      "metadata": {
        "id": "flOt6e5O2dGu"
      },
      "source": [
        "### data visualization"
      ]
    },
    {
      "cell_type": "code",
      "metadata": {
        "colab": {
          "base_uri": "https://localhost:8080/",
          "height": 977
        },
        "id": "AJU3S9py85Do",
        "outputId": "68ee7ffc-a44d-4850-e332-badf2263a19a"
      },
      "source": [
        "f = plt.figure(figsize=(19, 15))\n",
        "plt.matshow(df.corr(),fignum=f.number)\n",
        "plt.xticks(range(df.select_dtypes(['number']).shape[1]), df.select_dtypes(['number']).columns, fontsize=19, rotation=45)\n",
        "plt.yticks(range(df.select_dtypes(['number']).shape[1]), df.select_dtypes(['number']).columns, fontsize=19)\n",
        "plt.title('Correlation Matrix', fontsize=26);\n",
        "dataplot=sns.heatmap(df.corr(),cmap='magma',annot=True)\n",
        "plt.show()"
      ],
      "execution_count": null,
      "outputs": [
        {
          "output_type": "display_data",
          "data": {
            "image/png": "[encoded data removed]",
            "text/plain": [
              "<Figure size 1368x1080 with 2 Axes>"
            ]
          },
          "metadata": {
            "needs_background": "light"
          }
        }
      ]
    },
    {
      "cell_type": "markdown",
      "metadata": {
        "id": "YVj4H00i1o65"
      },
      "source": [
        "### describe all data"
      ]
    },
    {
      "cell_type": "code",
      "metadata": {
        "colab": {
          "base_uri": "https://localhost:8080/",
          "height": 251
        },
        "id": "TtciC18685Dp",
        "outputId": "e43cbad5-6ef9-48ed-d6b8-08e695bf056c"
      },
      "source": [
        "rs = np.random.RandomState(0)\n",
        "df = pd.DataFrame(rs.rand(10, 10))\n",
        "corr = df.corr()\n",
        "corr.style.background_gradient(cmap='magma')"
      ],
      "execution_count": null,
      "outputs": [
        {
          "output_type": "execute_result",
          "data": {
            "text/html": [
              "<style  type=\"text/css\" >\n",
              "#T_44e1e8ee_30c0_11ec_9215_0242ac1c0002row0_col0,#T_44e1e8ee_30c0_11ec_9215_0242ac1c0002row1_col1,#T_44e1e8ee_30c0_11ec_9215_0242ac1c0002row2_col2,#T_44e1e8ee_30c0_11ec_9215_0242ac1c0002row3_col3,#T_44e1e8ee_30c0_11ec_9215_0242ac1c0002row4_col4,#T_44e1e8ee_30c0_11ec_9215_0242ac1c0002row5_col5,#T_44e1e8ee_30c0_11ec_9215_0242ac1c0002row6_col6,#T_44e1e8ee_30c0_11ec_9215_0242ac1c0002row7_col7,#T_44e1e8ee_30c0_11ec_9215_0242ac1c0002row8_col8,#T_44e1e8ee_30c0_11ec_9215_0242ac1c0002row9_col9{\n",
              "            background-color:  #fcfdbf;\n",
              "            color:  #000000;\n",
              "        }#T_44e1e8ee_30c0_11ec_9215_0242ac1c0002row0_col1{\n",
              "            background-color:  #bf3a77;\n",
              "            color:  #f1f1f1;\n",
              "        }#T_44e1e8ee_30c0_11ec_9215_0242ac1c0002row0_col2{\n",
              "            background-color:  #e04c67;\n",
              "            color:  #000000;\n",
              "        }#T_44e1e8ee_30c0_11ec_9215_0242ac1c0002row0_col3,#T_44e1e8ee_30c0_11ec_9215_0242ac1c0002row8_col6{\n",
              "            background-color:  #eb5760;\n",
              "            color:  #000000;\n",
              "        }#T_44e1e8ee_30c0_11ec_9215_0242ac1c0002row0_col4{\n",
              "            background-color:  #982d80;\n",
              "            color:  #f1f1f1;\n",
              "        }#T_44e1e8ee_30c0_11ec_9215_0242ac1c0002row0_col5,#T_44e1e8ee_30c0_11ec_9215_0242ac1c0002row0_col6,#T_44e1e8ee_30c0_11ec_9215_0242ac1c0002row2_col3,#T_44e1e8ee_30c0_11ec_9215_0242ac1c0002row2_col9,#T_44e1e8ee_30c0_11ec_9215_0242ac1c0002row3_col2,#T_44e1e8ee_30c0_11ec_9215_0242ac1c0002row4_col7,#T_44e1e8ee_30c0_11ec_9215_0242ac1c0002row4_col8,#T_44e1e8ee_30c0_11ec_9215_0242ac1c0002row6_col0,#T_44e1e8ee_30c0_11ec_9215_0242ac1c0002row6_col1,#T_44e1e8ee_30c0_11ec_9215_0242ac1c0002row8_col4{\n",
              "            background-color:  #000004;\n",
              "            color:  #f1f1f1;\n",
              "        }#T_44e1e8ee_30c0_11ec_9215_0242ac1c0002row0_col7{\n",
              "            background-color:  #ef5d5e;\n",
              "            color:  #000000;\n",
              "        }#T_44e1e8ee_30c0_11ec_9215_0242ac1c0002row0_col8{\n",
              "            background-color:  #160f3b;\n",
              "            color:  #f1f1f1;\n",
              "        }#T_44e1e8ee_30c0_11ec_9215_0242ac1c0002row0_col9,#T_44e1e8ee_30c0_11ec_9215_0242ac1c0002row5_col0{\n",
              "            background-color:  #5f187f;\n",
              "            color:  #f1f1f1;\n",
              "        }#T_44e1e8ee_30c0_11ec_9215_0242ac1c0002row1_col0{\n",
              "            background-color:  #e55064;\n",
              "            color:  #000000;\n",
              "        }#T_44e1e8ee_30c0_11ec_9215_0242ac1c0002row1_col2{\n",
              "            background-color:  #29115a;\n",
              "            color:  #f1f1f1;\n",
              "        }#T_44e1e8ee_30c0_11ec_9215_0242ac1c0002row1_col3{\n",
              "            background-color:  #f9785d;\n",
              "            color:  #000000;\n",
              "        }#T_44e1e8ee_30c0_11ec_9215_0242ac1c0002row1_col4{\n",
              "            background-color:  #3d0f71;\n",
              "            color:  #f1f1f1;\n",
              "        }#T_44e1e8ee_30c0_11ec_9215_0242ac1c0002row1_col5{\n",
              "            background-color:  #b5367a;\n",
              "            color:  #f1f1f1;\n",
              "        }#T_44e1e8ee_30c0_11ec_9215_0242ac1c0002row1_col6{\n",
              "            background-color:  #400f74;\n",
              "            color:  #f1f1f1;\n",
              "        }#T_44e1e8ee_30c0_11ec_9215_0242ac1c0002row1_col7{\n",
              "            background-color:  #fc8e64;\n",
              "            color:  #000000;\n",
              "        }#T_44e1e8ee_30c0_11ec_9215_0242ac1c0002row1_col8{\n",
              "            background-color:  #c53c74;\n",
              "            color:  #f1f1f1;\n",
              "        }#T_44e1e8ee_30c0_11ec_9215_0242ac1c0002row1_col9{\n",
              "            background-color:  #932b80;\n",
              "            color:  #f1f1f1;\n",
              "        }#T_44e1e8ee_30c0_11ec_9215_0242ac1c0002row2_col0,#T_44e1e8ee_30c0_11ec_9215_0242ac1c0002row3_col7,#T_44e1e8ee_30c0_11ec_9215_0242ac1c0002row7_col3{\n",
              "            background-color:  #ee5b5e;\n",
              "            color:  #000000;\n",
              "        }#T_44e1e8ee_30c0_11ec_9215_0242ac1c0002row2_col1,#T_44e1e8ee_30c0_11ec_9215_0242ac1c0002row4_col1,#T_44e1e8ee_30c0_11ec_9215_0242ac1c0002row7_col4{\n",
              "            background-color:  #08071e;\n",
              "            color:  #f1f1f1;\n",
              "        }#T_44e1e8ee_30c0_11ec_9215_0242ac1c0002row2_col4,#T_44e1e8ee_30c0_11ec_9215_0242ac1c0002row9_col8{\n",
              "            background-color:  #ab337c;\n",
              "            color:  #f1f1f1;\n",
              "        }#T_44e1e8ee_30c0_11ec_9215_0242ac1c0002row2_col5{\n",
              "            background-color:  #0d0a29;\n",
              "            color:  #f1f1f1;\n",
              "        }#T_44e1e8ee_30c0_11ec_9215_0242ac1c0002row2_col6{\n",
              "            background-color:  #802582;\n",
              "            color:  #f1f1f1;\n",
              "        }#T_44e1e8ee_30c0_11ec_9215_0242ac1c0002row2_col7,#T_44e1e8ee_30c0_11ec_9215_0242ac1c0002row7_col2{\n",
              "            background-color:  #792282;\n",
              "            color:  #f1f1f1;\n",
              "        }#T_44e1e8ee_30c0_11ec_9215_0242ac1c0002row2_col8{\n",
              "            background-color:  #180f3d;\n",
              "            color:  #f1f1f1;\n",
              "        }#T_44e1e8ee_30c0_11ec_9215_0242ac1c0002row3_col0,#T_44e1e8ee_30c0_11ec_9215_0242ac1c0002row3_col1{\n",
              "            background-color:  #f4695c;\n",
              "            color:  #000000;\n",
              "        }#T_44e1e8ee_30c0_11ec_9215_0242ac1c0002row3_col4{\n",
              "            background-color:  #4c117a;\n",
              "            color:  #f1f1f1;\n",
              "        }#T_44e1e8ee_30c0_11ec_9215_0242ac1c0002row3_col5{\n",
              "            background-color:  #010005;\n",
              "            color:  #f1f1f1;\n",
              "        }#T_44e1e8ee_30c0_11ec_9215_0242ac1c0002row3_col6{\n",
              "            background-color:  #221150;\n",
              "            color:  #f1f1f1;\n",
              "        }#T_44e1e8ee_30c0_11ec_9215_0242ac1c0002row3_col8{\n",
              "            background-color:  #cc3f71;\n",
              "            color:  #f1f1f1;\n",
              "        }#T_44e1e8ee_30c0_11ec_9215_0242ac1c0002row3_col9{\n",
              "            background-color:  #de4968;\n",
              "            color:  #000000;\n",
              "        }#T_44e1e8ee_30c0_11ec_9215_0242ac1c0002row4_col0{\n",
              "            background-color:  #a6317d;\n",
              "            color:  #f1f1f1;\n",
              "        }#T_44e1e8ee_30c0_11ec_9215_0242ac1c0002row4_col2{\n",
              "            background-color:  #9e2f7f;\n",
              "            color:  #f1f1f1;\n",
              "        }#T_44e1e8ee_30c0_11ec_9215_0242ac1c0002row4_col3{\n",
              "            background-color:  #390f6e;\n",
              "            color:  #f1f1f1;\n",
              "        }#T_44e1e8ee_30c0_11ec_9215_0242ac1c0002row4_col5{\n",
              "            background-color:  #150e38;\n",
              "            color:  #f1f1f1;\n",
              "        }#T_44e1e8ee_30c0_11ec_9215_0242ac1c0002row4_col6{\n",
              "            background-color:  #732081;\n",
              "            color:  #f1f1f1;\n",
              "        }#T_44e1e8ee_30c0_11ec_9215_0242ac1c0002row4_col9,#T_44e1e8ee_30c0_11ec_9215_0242ac1c0002row7_col6{\n",
              "            background-color:  #21114e;\n",
              "            color:  #f1f1f1;\n",
              "        }#T_44e1e8ee_30c0_11ec_9215_0242ac1c0002row5_col1{\n",
              "            background-color:  #ca3e72;\n",
              "            color:  #f1f1f1;\n",
              "        }#T_44e1e8ee_30c0_11ec_9215_0242ac1c0002row5_col2{\n",
              "            background-color:  #51127c;\n",
              "            color:  #f1f1f1;\n",
              "        }#T_44e1e8ee_30c0_11ec_9215_0242ac1c0002row5_col3{\n",
              "            background-color:  #38106c;\n",
              "            color:  #f1f1f1;\n",
              "        }#T_44e1e8ee_30c0_11ec_9215_0242ac1c0002row5_col4{\n",
              "            background-color:  #6a1c81;\n",
              "            color:  #f1f1f1;\n",
              "        }#T_44e1e8ee_30c0_11ec_9215_0242ac1c0002row5_col6,#T_44e1e8ee_30c0_11ec_9215_0242ac1c0002row9_col1{\n",
              "            background-color:  #8e2a81;\n",
              "            color:  #f1f1f1;\n",
              "        }#T_44e1e8ee_30c0_11ec_9215_0242ac1c0002row5_col7,#T_44e1e8ee_30c0_11ec_9215_0242ac1c0002row9_col7{\n",
              "            background-color:  #e44f64;\n",
              "            color:  #000000;\n",
              "        }#T_44e1e8ee_30c0_11ec_9215_0242ac1c0002row5_col8{\n",
              "            background-color:  #ba3878;\n",
              "            color:  #f1f1f1;\n",
              "        }#T_44e1e8ee_30c0_11ec_9215_0242ac1c0002row5_col9{\n",
              "            background-color:  #762181;\n",
              "            color:  #f1f1f1;\n",
              "        }#T_44e1e8ee_30c0_11ec_9215_0242ac1c0002row6_col2{\n",
              "            background-color:  #5d177f;\n",
              "            color:  #f1f1f1;\n",
              "        }#T_44e1e8ee_30c0_11ec_9215_0242ac1c0002row6_col3{\n",
              "            background-color:  #03030f;\n",
              "            color:  #f1f1f1;\n",
              "        }#T_44e1e8ee_30c0_11ec_9215_0242ac1c0002row6_col4{\n",
              "            background-color:  #601880;\n",
              "            color:  #f1f1f1;\n",
              "        }#T_44e1e8ee_30c0_11ec_9215_0242ac1c0002row6_col5,#T_44e1e8ee_30c0_11ec_9215_0242ac1c0002row8_col0{\n",
              "            background-color:  #2c115f;\n",
              "            color:  #f1f1f1;\n",
              "        }#T_44e1e8ee_30c0_11ec_9215_0242ac1c0002row6_col7{\n",
              "            background-color:  #020109;\n",
              "            color:  #f1f1f1;\n",
              "        }#T_44e1e8ee_30c0_11ec_9215_0242ac1c0002row6_col8,#T_44e1e8ee_30c0_11ec_9215_0242ac1c0002row7_col8{\n",
              "            background-color:  #e34e65;\n",
              "            color:  #000000;\n",
              "        }#T_44e1e8ee_30c0_11ec_9215_0242ac1c0002row6_col9{\n",
              "            background-color:  #02020b;\n",
              "            color:  #f1f1f1;\n",
              "        }#T_44e1e8ee_30c0_11ec_9215_0242ac1c0002row7_col0{\n",
              "            background-color:  #f66e5c;\n",
              "            color:  #000000;\n",
              "        }#T_44e1e8ee_30c0_11ec_9215_0242ac1c0002row7_col1{\n",
              "            background-color:  #fa815f;\n",
              "            color:  #000000;\n",
              "        }#T_44e1e8ee_30c0_11ec_9215_0242ac1c0002row7_col5{\n",
              "            background-color:  #c23b75;\n",
              "            color:  #f1f1f1;\n",
              "        }#T_44e1e8ee_30c0_11ec_9215_0242ac1c0002row7_col9{\n",
              "            background-color:  #d6456c;\n",
              "            color:  #f1f1f1;\n",
              "        }#T_44e1e8ee_30c0_11ec_9215_0242ac1c0002row8_col1{\n",
              "            background-color:  #a1307e;\n",
              "            color:  #f1f1f1;\n",
              "        }#T_44e1e8ee_30c0_11ec_9215_0242ac1c0002row8_col2{\n",
              "            background-color:  #090720;\n",
              "            color:  #f1f1f1;\n",
              "        }#T_44e1e8ee_30c0_11ec_9215_0242ac1c0002row8_col3{\n",
              "            background-color:  #c03a76;\n",
              "            color:  #f1f1f1;\n",
              "        }#T_44e1e8ee_30c0_11ec_9215_0242ac1c0002row8_col5{\n",
              "            background-color:  #7b2382;\n",
              "            color:  #f1f1f1;\n",
              "        }#T_44e1e8ee_30c0_11ec_9215_0242ac1c0002row8_col7{\n",
              "            background-color:  #db476a;\n",
              "            color:  #000000;\n",
              "        }#T_44e1e8ee_30c0_11ec_9215_0242ac1c0002row8_col9{\n",
              "            background-color:  #862781;\n",
              "            color:  #f1f1f1;\n",
              "        }#T_44e1e8ee_30c0_11ec_9215_0242ac1c0002row9_col0{\n",
              "            background-color:  #992d80;\n",
              "            color:  #f1f1f1;\n",
              "        }#T_44e1e8ee_30c0_11ec_9215_0242ac1c0002row9_col2{\n",
              "            background-color:  #120d31;\n",
              "            color:  #f1f1f1;\n",
              "        }#T_44e1e8ee_30c0_11ec_9215_0242ac1c0002row9_col3{\n",
              "            background-color:  #ea5661;\n",
              "            color:  #000000;\n",
              "        }#T_44e1e8ee_30c0_11ec_9215_0242ac1c0002row9_col4{\n",
              "            background-color:  #56147d;\n",
              "            color:  #f1f1f1;\n",
              "        }#T_44e1e8ee_30c0_11ec_9215_0242ac1c0002row9_col5{\n",
              "            background-color:  #57157e;\n",
              "            color:  #f1f1f1;\n",
              "        }#T_44e1e8ee_30c0_11ec_9215_0242ac1c0002row9_col6{\n",
              "            background-color:  #420f75;\n",
              "            color:  #f1f1f1;\n",
              "        }</style><table id=\"T_44e1e8ee_30c0_11ec_9215_0242ac1c0002\" ><thead>    <tr>        <th class=\"blank level0\" ></th>        <th class=\"col_heading level0 col0\" >0</th>        <th class=\"col_heading level0 col1\" >1</th>        <th class=\"col_heading level0 col2\" >2</th>        <th class=\"col_heading level0 col3\" >3</th>        <th class=\"col_heading level0 col4\" >4</th>        <th class=\"col_heading level0 col5\" >5</th>        <th class=\"col_heading level0 col6\" >6</th>        <th class=\"col_heading level0 col7\" >7</th>        <th class=\"col_heading level0 col8\" >8</th>        <th class=\"col_heading level0 col9\" >9</th>    </tr></thead><tbody>\n",
              "                <tr>\n",
              "                        <th id=\"T_44e1e8ee_30c0_11ec_9215_0242ac1c0002level0_row0\" class=\"row_heading level0 row0\" >0</th>\n",
              "                        <td id=\"T_44e1e8ee_30c0_11ec_9215_0242ac1c0002row0_col0\" class=\"data row0 col0\" >1.000000</td>\n",
              "                        <td id=\"T_44e1e8ee_30c0_11ec_9215_0242ac1c0002row0_col1\" class=\"data row0 col1\" >0.347533</td>\n",
              "                        <td id=\"T_44e1e8ee_30c0_11ec_9215_0242ac1c0002row0_col2\" class=\"data row0 col2\" >0.398948</td>\n",
              "                        <td id=\"T_44e1e8ee_30c0_11ec_9215_0242ac1c0002row0_col3\" class=\"data row0 col3\" >0.455743</td>\n",
              "                        <td id=\"T_44e1e8ee_30c0_11ec_9215_0242ac1c0002row0_col4\" class=\"data row0 col4\" >0.072914</td>\n",
              "                        <td id=\"T_44e1e8ee_30c0_11ec_9215_0242ac1c0002row0_col5\" class=\"data row0 col5\" >-0.233402</td>\n",
              "                        <td id=\"T_44e1e8ee_30c0_11ec_9215_0242ac1c0002row0_col6\" class=\"data row0 col6\" >-0.731222</td>\n",
              "                        <td id=\"T_44e1e8ee_30c0_11ec_9215_0242ac1c0002row0_col7\" class=\"data row0 col7\" >0.477978</td>\n",
              "                        <td id=\"T_44e1e8ee_30c0_11ec_9215_0242ac1c0002row0_col8\" class=\"data row0 col8\" >-0.442621</td>\n",
              "                        <td id=\"T_44e1e8ee_30c0_11ec_9215_0242ac1c0002row0_col9\" class=\"data row0 col9\" >0.015185</td>\n",
              "            </tr>\n",
              "            <tr>\n",
              "                        <th id=\"T_44e1e8ee_30c0_11ec_9215_0242ac1c0002level0_row1\" class=\"row_heading level0 row1\" >1</th>\n",
              "                        <td id=\"T_44e1e8ee_30c0_11ec_9215_0242ac1c0002row1_col0\" class=\"data row1 col0\" >0.347533</td>\n",
              "                        <td id=\"T_44e1e8ee_30c0_11ec_9215_0242ac1c0002row1_col1\" class=\"data row1 col1\" >1.000000</td>\n",
              "                        <td id=\"T_44e1e8ee_30c0_11ec_9215_0242ac1c0002row1_col2\" class=\"data row1 col2\" >-0.284056</td>\n",
              "                        <td id=\"T_44e1e8ee_30c0_11ec_9215_0242ac1c0002row1_col3\" class=\"data row1 col3\" >0.571003</td>\n",
              "                        <td id=\"T_44e1e8ee_30c0_11ec_9215_0242ac1c0002row1_col4\" class=\"data row1 col4\" >-0.285483</td>\n",
              "                        <td id=\"T_44e1e8ee_30c0_11ec_9215_0242ac1c0002row1_col5\" class=\"data row1 col5\" >0.382480</td>\n",
              "                        <td id=\"T_44e1e8ee_30c0_11ec_9215_0242ac1c0002row1_col6\" class=\"data row1 col6\" >-0.362842</td>\n",
              "                        <td id=\"T_44e1e8ee_30c0_11ec_9215_0242ac1c0002row1_col7\" class=\"data row1 col7\" >0.642578</td>\n",
              "                        <td id=\"T_44e1e8ee_30c0_11ec_9215_0242ac1c0002row1_col8\" class=\"data row1 col8\" >0.252556</td>\n",
              "                        <td id=\"T_44e1e8ee_30c0_11ec_9215_0242ac1c0002row1_col9\" class=\"data row1 col9\" >0.190047</td>\n",
              "            </tr>\n",
              "            <tr>\n",
              "                        <th id=\"T_44e1e8ee_30c0_11ec_9215_0242ac1c0002level0_row2\" class=\"row_heading level0 row2\" >2</th>\n",
              "                        <td id=\"T_44e1e8ee_30c0_11ec_9215_0242ac1c0002row2_col0\" class=\"data row2 col0\" >0.398948</td>\n",
              "                        <td id=\"T_44e1e8ee_30c0_11ec_9215_0242ac1c0002row2_col1\" class=\"data row2 col1\" >-0.284056</td>\n",
              "                        <td id=\"T_44e1e8ee_30c0_11ec_9215_0242ac1c0002row2_col2\" class=\"data row2 col2\" >1.000000</td>\n",
              "                        <td id=\"T_44e1e8ee_30c0_11ec_9215_0242ac1c0002row2_col3\" class=\"data row2 col3\" >-0.523649</td>\n",
              "                        <td id=\"T_44e1e8ee_30c0_11ec_9215_0242ac1c0002row2_col4\" class=\"data row2 col4\" >0.152937</td>\n",
              "                        <td id=\"T_44e1e8ee_30c0_11ec_9215_0242ac1c0002row2_col5\" class=\"data row2 col5\" >-0.139176</td>\n",
              "                        <td id=\"T_44e1e8ee_30c0_11ec_9215_0242ac1c0002row2_col6\" class=\"data row2 col6\" >-0.092895</td>\n",
              "                        <td id=\"T_44e1e8ee_30c0_11ec_9215_0242ac1c0002row2_col7\" class=\"data row2 col7\" >0.016266</td>\n",
              "                        <td id=\"T_44e1e8ee_30c0_11ec_9215_0242ac1c0002row2_col8\" class=\"data row2 col8\" >-0.434016</td>\n",
              "                        <td id=\"T_44e1e8ee_30c0_11ec_9215_0242ac1c0002row2_col9\" class=\"data row2 col9\" >-0.383585</td>\n",
              "            </tr>\n",
              "            <tr>\n",
              "                        <th id=\"T_44e1e8ee_30c0_11ec_9215_0242ac1c0002level0_row3\" class=\"row_heading level0 row3\" >3</th>\n",
              "                        <td id=\"T_44e1e8ee_30c0_11ec_9215_0242ac1c0002row3_col0\" class=\"data row3 col0\" >0.455743</td>\n",
              "                        <td id=\"T_44e1e8ee_30c0_11ec_9215_0242ac1c0002row3_col1\" class=\"data row3 col1\" >0.571003</td>\n",
              "                        <td id=\"T_44e1e8ee_30c0_11ec_9215_0242ac1c0002row3_col2\" class=\"data row3 col2\" >-0.523649</td>\n",
              "                        <td id=\"T_44e1e8ee_30c0_11ec_9215_0242ac1c0002row3_col3\" class=\"data row3 col3\" >1.000000</td>\n",
              "                        <td id=\"T_44e1e8ee_30c0_11ec_9215_0242ac1c0002row3_col4\" class=\"data row3 col4\" >-0.225343</td>\n",
              "                        <td id=\"T_44e1e8ee_30c0_11ec_9215_0242ac1c0002row3_col5\" class=\"data row3 col5\" >-0.227577</td>\n",
              "                        <td id=\"T_44e1e8ee_30c0_11ec_9215_0242ac1c0002row3_col6\" class=\"data row3 col6\" >-0.481548</td>\n",
              "                        <td id=\"T_44e1e8ee_30c0_11ec_9215_0242ac1c0002row3_col7\" class=\"data row3 col7\" >0.473286</td>\n",
              "                        <td id=\"T_44e1e8ee_30c0_11ec_9215_0242ac1c0002row3_col8\" class=\"data row3 col8\" >0.279258</td>\n",
              "                        <td id=\"T_44e1e8ee_30c0_11ec_9215_0242ac1c0002row3_col9\" class=\"data row3 col9\" >0.446650</td>\n",
              "            </tr>\n",
              "            <tr>\n",
              "                        <th id=\"T_44e1e8ee_30c0_11ec_9215_0242ac1c0002level0_row4\" class=\"row_heading level0 row4\" >4</th>\n",
              "                        <td id=\"T_44e1e8ee_30c0_11ec_9215_0242ac1c0002row4_col0\" class=\"data row4 col0\" >0.072914</td>\n",
              "                        <td id=\"T_44e1e8ee_30c0_11ec_9215_0242ac1c0002row4_col1\" class=\"data row4 col1\" >-0.285483</td>\n",
              "                        <td id=\"T_44e1e8ee_30c0_11ec_9215_0242ac1c0002row4_col2\" class=\"data row4 col2\" >0.152937</td>\n",
              "                        <td id=\"T_44e1e8ee_30c0_11ec_9215_0242ac1c0002row4_col3\" class=\"data row4 col3\" >-0.225343</td>\n",
              "                        <td id=\"T_44e1e8ee_30c0_11ec_9215_0242ac1c0002row4_col4\" class=\"data row4 col4\" >1.000000</td>\n",
              "                        <td id=\"T_44e1e8ee_30c0_11ec_9215_0242ac1c0002row4_col5\" class=\"data row4 col5\" >-0.104438</td>\n",
              "                        <td id=\"T_44e1e8ee_30c0_11ec_9215_0242ac1c0002row4_col6\" class=\"data row4 col6\" >-0.147477</td>\n",
              "                        <td id=\"T_44e1e8ee_30c0_11ec_9215_0242ac1c0002row4_col7\" class=\"data row4 col7\" >-0.523283</td>\n",
              "                        <td id=\"T_44e1e8ee_30c0_11ec_9215_0242ac1c0002row4_col8\" class=\"data row4 col8\" >-0.614603</td>\n",
              "                        <td id=\"T_44e1e8ee_30c0_11ec_9215_0242ac1c0002row4_col9\" class=\"data row4 col9\" >-0.189916</td>\n",
              "            </tr>\n",
              "            <tr>\n",
              "                        <th id=\"T_44e1e8ee_30c0_11ec_9215_0242ac1c0002level0_row5\" class=\"row_heading level0 row5\" >5</th>\n",
              "                        <td id=\"T_44e1e8ee_30c0_11ec_9215_0242ac1c0002row5_col0\" class=\"data row5 col0\" >-0.233402</td>\n",
              "                        <td id=\"T_44e1e8ee_30c0_11ec_9215_0242ac1c0002row5_col1\" class=\"data row5 col1\" >0.382480</td>\n",
              "                        <td id=\"T_44e1e8ee_30c0_11ec_9215_0242ac1c0002row5_col2\" class=\"data row5 col2\" >-0.139176</td>\n",
              "                        <td id=\"T_44e1e8ee_30c0_11ec_9215_0242ac1c0002row5_col3\" class=\"data row5 col3\" >-0.227577</td>\n",
              "                        <td id=\"T_44e1e8ee_30c0_11ec_9215_0242ac1c0002row5_col4\" class=\"data row5 col4\" >-0.104438</td>\n",
              "                        <td id=\"T_44e1e8ee_30c0_11ec_9215_0242ac1c0002row5_col5\" class=\"data row5 col5\" >1.000000</td>\n",
              "                        <td id=\"T_44e1e8ee_30c0_11ec_9215_0242ac1c0002row5_col6\" class=\"data row5 col6\" >-0.030252</td>\n",
              "                        <td id=\"T_44e1e8ee_30c0_11ec_9215_0242ac1c0002row5_col7\" class=\"data row5 col7\" >0.417640</td>\n",
              "                        <td id=\"T_44e1e8ee_30c0_11ec_9215_0242ac1c0002row5_col8\" class=\"data row5 col8\" >0.205851</td>\n",
              "                        <td id=\"T_44e1e8ee_30c0_11ec_9215_0242ac1c0002row5_col9\" class=\"data row5 col9\" >0.095084</td>\n",
              "            </tr>\n",
              "            <tr>\n",
              "                        <th id=\"T_44e1e8ee_30c0_11ec_9215_0242ac1c0002level0_row6\" class=\"row_heading level0 row6\" >6</th>\n",
              "                        <td id=\"T_44e1e8ee_30c0_11ec_9215_0242ac1c0002row6_col0\" class=\"data row6 col0\" >-0.731222</td>\n",
              "                        <td id=\"T_44e1e8ee_30c0_11ec_9215_0242ac1c0002row6_col1\" class=\"data row6 col1\" >-0.362842</td>\n",
              "                        <td id=\"T_44e1e8ee_30c0_11ec_9215_0242ac1c0002row6_col2\" class=\"data row6 col2\" >-0.092895</td>\n",
              "                        <td id=\"T_44e1e8ee_30c0_11ec_9215_0242ac1c0002row6_col3\" class=\"data row6 col3\" >-0.481548</td>\n",
              "                        <td id=\"T_44e1e8ee_30c0_11ec_9215_0242ac1c0002row6_col4\" class=\"data row6 col4\" >-0.147477</td>\n",
              "                        <td id=\"T_44e1e8ee_30c0_11ec_9215_0242ac1c0002row6_col5\" class=\"data row6 col5\" >-0.030252</td>\n",
              "                        <td id=\"T_44e1e8ee_30c0_11ec_9215_0242ac1c0002row6_col6\" class=\"data row6 col6\" >1.000000</td>\n",
              "                        <td id=\"T_44e1e8ee_30c0_11ec_9215_0242ac1c0002row6_col7\" class=\"data row6 col7\" >-0.494440</td>\n",
              "                        <td id=\"T_44e1e8ee_30c0_11ec_9215_0242ac1c0002row6_col8\" class=\"data row6 col8\" >0.381407</td>\n",
              "                        <td id=\"T_44e1e8ee_30c0_11ec_9215_0242ac1c0002row6_col9\" class=\"data row6 col9\" >-0.353652</td>\n",
              "            </tr>\n",
              "            <tr>\n",
              "                        <th id=\"T_44e1e8ee_30c0_11ec_9215_0242ac1c0002level0_row7\" class=\"row_heading level0 row7\" >7</th>\n",
              "                        <td id=\"T_44e1e8ee_30c0_11ec_9215_0242ac1c0002row7_col0\" class=\"data row7 col0\" >0.477978</td>\n",
              "                        <td id=\"T_44e1e8ee_30c0_11ec_9215_0242ac1c0002row7_col1\" class=\"data row7 col1\" >0.642578</td>\n",
              "                        <td id=\"T_44e1e8ee_30c0_11ec_9215_0242ac1c0002row7_col2\" class=\"data row7 col2\" >0.016266</td>\n",
              "                        <td id=\"T_44e1e8ee_30c0_11ec_9215_0242ac1c0002row7_col3\" class=\"data row7 col3\" >0.473286</td>\n",
              "                        <td id=\"T_44e1e8ee_30c0_11ec_9215_0242ac1c0002row7_col4\" class=\"data row7 col4\" >-0.523283</td>\n",
              "                        <td id=\"T_44e1e8ee_30c0_11ec_9215_0242ac1c0002row7_col5\" class=\"data row7 col5\" >0.417640</td>\n",
              "                        <td id=\"T_44e1e8ee_30c0_11ec_9215_0242ac1c0002row7_col6\" class=\"data row7 col6\" >-0.494440</td>\n",
              "                        <td id=\"T_44e1e8ee_30c0_11ec_9215_0242ac1c0002row7_col7\" class=\"data row7 col7\" >1.000000</td>\n",
              "                        <td id=\"T_44e1e8ee_30c0_11ec_9215_0242ac1c0002row7_col8\" class=\"data row7 col8\" >0.375873</td>\n",
              "                        <td id=\"T_44e1e8ee_30c0_11ec_9215_0242ac1c0002row7_col9\" class=\"data row7 col9\" >0.417863</td>\n",
              "            </tr>\n",
              "            <tr>\n",
              "                        <th id=\"T_44e1e8ee_30c0_11ec_9215_0242ac1c0002level0_row8\" class=\"row_heading level0 row8\" >8</th>\n",
              "                        <td id=\"T_44e1e8ee_30c0_11ec_9215_0242ac1c0002row8_col0\" class=\"data row8 col0\" >-0.442621</td>\n",
              "                        <td id=\"T_44e1e8ee_30c0_11ec_9215_0242ac1c0002row8_col1\" class=\"data row8 col1\" >0.252556</td>\n",
              "                        <td id=\"T_44e1e8ee_30c0_11ec_9215_0242ac1c0002row8_col2\" class=\"data row8 col2\" >-0.434016</td>\n",
              "                        <td id=\"T_44e1e8ee_30c0_11ec_9215_0242ac1c0002row8_col3\" class=\"data row8 col3\" >0.279258</td>\n",
              "                        <td id=\"T_44e1e8ee_30c0_11ec_9215_0242ac1c0002row8_col4\" class=\"data row8 col4\" >-0.614603</td>\n",
              "                        <td id=\"T_44e1e8ee_30c0_11ec_9215_0242ac1c0002row8_col5\" class=\"data row8 col5\" >0.205851</td>\n",
              "                        <td id=\"T_44e1e8ee_30c0_11ec_9215_0242ac1c0002row8_col6\" class=\"data row8 col6\" >0.381407</td>\n",
              "                        <td id=\"T_44e1e8ee_30c0_11ec_9215_0242ac1c0002row8_col7\" class=\"data row8 col7\" >0.375873</td>\n",
              "                        <td id=\"T_44e1e8ee_30c0_11ec_9215_0242ac1c0002row8_col8\" class=\"data row8 col8\" >1.000000</td>\n",
              "                        <td id=\"T_44e1e8ee_30c0_11ec_9215_0242ac1c0002row8_col9\" class=\"data row8 col9\" >0.150421</td>\n",
              "            </tr>\n",
              "            <tr>\n",
              "                        <th id=\"T_44e1e8ee_30c0_11ec_9215_0242ac1c0002level0_row9\" class=\"row_heading level0 row9\" >9</th>\n",
              "                        <td id=\"T_44e1e8ee_30c0_11ec_9215_0242ac1c0002row9_col0\" class=\"data row9 col0\" >0.015185</td>\n",
              "                        <td id=\"T_44e1e8ee_30c0_11ec_9215_0242ac1c0002row9_col1\" class=\"data row9 col1\" >0.190047</td>\n",
              "                        <td id=\"T_44e1e8ee_30c0_11ec_9215_0242ac1c0002row9_col2\" class=\"data row9 col2\" >-0.383585</td>\n",
              "                        <td id=\"T_44e1e8ee_30c0_11ec_9215_0242ac1c0002row9_col3\" class=\"data row9 col3\" >0.446650</td>\n",
              "                        <td id=\"T_44e1e8ee_30c0_11ec_9215_0242ac1c0002row9_col4\" class=\"data row9 col4\" >-0.189916</td>\n",
              "                        <td id=\"T_44e1e8ee_30c0_11ec_9215_0242ac1c0002row9_col5\" class=\"data row9 col5\" >0.095084</td>\n",
              "                        <td id=\"T_44e1e8ee_30c0_11ec_9215_0242ac1c0002row9_col6\" class=\"data row9 col6\" >-0.353652</td>\n",
              "                        <td id=\"T_44e1e8ee_30c0_11ec_9215_0242ac1c0002row9_col7\" class=\"data row9 col7\" >0.417863</td>\n",
              "                        <td id=\"T_44e1e8ee_30c0_11ec_9215_0242ac1c0002row9_col8\" class=\"data row9 col8\" >0.150421</td>\n",
              "                        <td id=\"T_44e1e8ee_30c0_11ec_9215_0242ac1c0002row9_col9\" class=\"data row9 col9\" >1.000000</td>\n",
              "            </tr>\n",
              "    </tbody></table>"
            ],
            "text/plain": [
              "<pandas.io.formats.style.Styler at 0x7fe44a49cdd0>"
            ]
          },
          "metadata": {},
          "execution_count": 12
        }
      ]
    },
    {
      "cell_type": "markdown",
      "metadata": {
        "id": "HwPHbGEW1zOi"
      },
      "source": [
        "### split data into two part"
      ]
    },
    {
      "cell_type": "code",
      "metadata": {
        "id": "VAzz3hdm85Dq"
      },
      "source": [
        "xtrain, xtest, ytrain, ytest = train_test_split(x,y,test_size=0.3,random_state=0)"
      ],
      "execution_count": null,
      "outputs": []
    },
    {
      "cell_type": "markdown",
      "metadata": {
        "id": "kfzs1GOr1YE_"
      },
      "source": [
        "### change the data type"
      ]
    },
    {
      "cell_type": "code",
      "metadata": {
        "colab": {
          "base_uri": "https://localhost:8080/"
        },
        "id": "DUQWjMq_85Dq",
        "outputId": "099b9737-bbfd-4131-e34f-a9ca5ab2e568"
      },
      "source": [
        "df.dtypes"
      ],
      "execution_count": null,
      "outputs": [
        {
          "output_type": "execute_result",
          "data": {
            "text/plain": [
              "0    float64\n",
              "1    float64\n",
              "2    float64\n",
              "3    float64\n",
              "4    float64\n",
              "5    float64\n",
              "6    float64\n",
              "7    float64\n",
              "8    float64\n",
              "9    float64\n",
              "dtype: object"
            ]
          },
          "metadata": {},
          "execution_count": 14
        }
      ]
    },
    {
      "cell_type": "code",
      "metadata": {
        "colab": {
          "base_uri": "https://localhost:8080/"
        },
        "id": "ZHWzxz6U4z00",
        "outputId": "286c1bf4-f883-49b5-9ed9-c908598f45f4"
      },
      "source": [
        "df.isna().sum()"
      ],
      "execution_count": null,
      "outputs": [
        {
          "output_type": "execute_result",
          "data": {
            "text/plain": [
              "0    0\n",
              "1    0\n",
              "2    0\n",
              "3    0\n",
              "4    0\n",
              "5    0\n",
              "6    0\n",
              "7    0\n",
              "8    0\n",
              "9    0\n",
              "dtype: int64"
            ]
          },
          "metadata": {},
          "execution_count": 15
        }
      ]
    },
    {
      "cell_type": "markdown",
      "metadata": {
        "id": "4cTsnCte19vg"
      },
      "source": [
        "# algorithm"
      ]
    },
    {
      "cell_type": "code",
      "metadata": {
        "id": "XtglqUh385Dr"
      },
      "source": [
        "from sklearn.neural_network import MLPClassifier\n",
        "\n",
        "mlp=MLPClassifier(max_iter=300,activation='relu')"
      ],
      "execution_count": null,
      "outputs": []
    },
    {
      "cell_type": "markdown",
      "metadata": {
        "id": "ks0Z2TKe2DfD"
      },
      "source": [
        "### model trainning"
      ]
    },
    {
      "cell_type": "code",
      "metadata": {
        "colab": {
          "base_uri": "https://localhost:8080/"
        },
        "id": "yALRAZZX85Dr",
        "outputId": "311ae9a5-e51e-4d5c-8e69-659ea315dd9c"
      },
      "source": [
        "mlp.fit(xtrain,ytrain)"
      ],
      "execution_count": null,
      "outputs": [
        {
          "output_type": "execute_result",
          "data": {
            "text/plain": [
              "MLPClassifier(activation='relu', alpha=0.0001, batch_size='auto', beta_1=0.9,\n",
              "              beta_2=0.999, early_stopping=False, epsilon=1e-08,\n",
              "              hidden_layer_sizes=(100,), learning_rate='constant',\n",
              "              learning_rate_init=0.001, max_fun=15000, max_iter=300,\n",
              "              momentum=0.9, n_iter_no_change=10, nesterovs_momentum=True,\n",
              "              power_t=0.5, random_state=None, shuffle=True, solver='adam',\n",
              "              tol=0.0001, validation_fraction=0.1, verbose=False,\n",
              "              warm_start=False)"
            ]
          },
          "metadata": {},
          "execution_count": 17
        }
      ]
    },
    {
      "cell_type": "markdown",
      "metadata": {
        "id": "O5PSPG2F2H70"
      },
      "source": [
        "### model value prediction"
      ]
    },
    {
      "cell_type": "code",
      "metadata": {
        "colab": {
          "base_uri": "https://localhost:8080/"
        },
        "id": "C1edJ2iU85Ds",
        "outputId": "a7e20538-ebbf-4575-8dae-8a80a02641f7"
      },
      "source": [
        "ypred=mlp.predict(xtest)\n",
        "ypred"
      ],
      "execution_count": null,
      "outputs": [
        {
          "output_type": "execute_result",
          "data": {
            "text/plain": [
              "array(['negative', 'negative', 'negative', ..., 'negative', 'negative',\n",
              "       'negative'], dtype='<U8')"
            ]
          },
          "metadata": {},
          "execution_count": 18
        }
      ]
    },
    {
      "cell_type": "code",
      "metadata": {
        "colab": {
          "base_uri": "https://localhost:8080/"
        },
        "id": "qtnUE3iV85Ds",
        "outputId": "cd59f7dc-b466-4290-f73c-127b0e4311cd"
      },
      "source": [
        "print(ytest)"
      ],
      "execution_count": null,
      "outputs": [
        {
          "output_type": "stream",
          "name": "stdout",
          "text": [
            "484719     negative\n",
            "2291802    negative\n",
            "22704      negative\n",
            "328613     negative\n",
            "1629417    negative\n",
            "             ...   \n",
            "1990605    negative\n",
            "1375557    positive\n",
            "1040380    positive\n",
            "181381     negative\n",
            "454086     negative\n",
            "Name: corona_result, Length: 822779, dtype: object\n"
          ]
        }
      ]
    },
    {
      "cell_type": "markdown",
      "metadata": {
        "id": "K4CqKI9B2Nps"
      },
      "source": [
        "### create a classification report"
      ]
    },
    {
      "cell_type": "code",
      "metadata": {
        "id": "0PgAm5D185Dt",
        "colab": {
          "base_uri": "https://localhost:8080/"
        },
        "outputId": "6525ed0c-a496-41f6-d1e2-400acbccb41c"
      },
      "source": [
        "from sklearn.metrics import classification_report,confusion_matrix,accuracy_score\n",
        "\n",
        "cm=confusion_matrix(ytest,ypred)\n",
        "print(accuracy_score(ytest,ypred))"
      ],
      "execution_count": null,
      "outputs": [
        {
          "output_type": "stream",
          "name": "stdout",
          "text": [
            "0.9249227313774415\n"
          ]
        }
      ]
    },
    {
      "cell_type": "code",
      "metadata": {
        "colab": {
          "base_uri": "https://localhost:8080/",
          "height": 295
        },
        "id": "SVxQ1Lgz85Dt",
        "outputId": "be717e70-33e7-47d1-b33b-5d9000254a5e"
      },
      "source": [
        "import seaborn as sns\n",
        "import matplotlib.pyplot as plt     \n",
        "\n",
        "ax= plt.subplot()\n",
        "sns.heatmap(cm,annot=True,fmt='d',ax=ax)\n",
        "\n",
        "ax.set_xlabel('Predicted labels');\n",
        "ax.set_ylabel('True labels');\n",
        "ax.set_title('Confusion Matrix');\n",
        "ax.xaxis.set_ticklabels(['positive', 'other','negative']);\n",
        "ax.yaxis.set_ticklabels(['negative', 'other','positive']);"
      ],
      "execution_count": null,
      "outputs": [
        {
          "output_type": "display_data",
          "data": {
            "image/png": "[encoded data removed]",
            "text/plain": [
              "<Figure size 432x288 with 2 Axes>"
            ]
          },
          "metadata": {
            "needs_background": "light"
          }
        }
      ]
    },
    {
      "cell_type": "code",
      "metadata": {
        "colab": {
          "base_uri": "https://localhost:8080/"
        },
        "id": "l0kJyd_u8AJY",
        "outputId": "990b8a0d-9e95-4244-9824-9f36e970433a"
      },
      "source": [
        "print(classification_report(ytest,ypred,zero_division=0))"
      ],
      "execution_count": null,
      "outputs": [
        {
          "output_type": "stream",
          "name": "stdout",
          "text": [
            "              precision    recall  f1-score   support\n",
            "\n",
            "    negative       0.95      0.97      0.96    743904\n",
            "       other       0.00      0.00      0.00     12418\n",
            "    positive       0.63      0.56      0.60     66457\n",
            "\n",
            "    accuracy                           0.92    822779\n",
            "   macro avg       0.53      0.51      0.52    822779\n",
            "weighted avg       0.91      0.92      0.92    822779\n",
            "\n"
          ]
        }
      ]
    }
  ]
}